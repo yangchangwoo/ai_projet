{
 "cells": [
  {
   "cell_type": "markdown",
   "id": "16b2f3f8",
   "metadata": {},
   "source": [
    "# 인공신경망\n",
    "\n",
    "- 인공신경망은 인공지능을 구현하는 알고리즘\n",
    "- 두뇌를 구성하는 뉴런(신경세포)를 본따서 시스템으로 구성"
   ]
  },
  {
   "cell_type": "markdown",
   "id": "3c49cf45",
   "metadata": {},
   "source": [
    "# 딥러닝 프레임워크\n",
    "\n",
    "- Tensorflow\n",
    "    - google\n",
    "\n",
    "- keras\n",
    "- pyTorch\n",
    "    - facebook\n",
    "\n",
    "- Theano\n",
    "- CNTK\n",
    "    - MS\n",
    "\n",
    "- MXNET\n",
    "    - 아마존"
   ]
  },
  {
   "cell_type": "markdown",
   "id": "e40355a8",
   "metadata": {},
   "source": [
    "## 텐서플로와 케라스\n",
    "\n",
    "- 텐서플로\n",
    "    - 텐서플로는 구글이 2015년 11월 오픈소스로 공개한 딥러닝 라이브러리\n",
    "    - 기본 자료 구조 : Tensor\n",
    "    - Tensor는 다차원 행렬 계산이다\n",
    "    - 라이센스 apache 2.0을 따르기 때문에 상용화, 상업화가 가능함\n",
    "    - 방대한 자료\n",
    "    - C++ 코어로 개발\n",
    "    - 스타일\n",
    "        - 계산식을 만들고, 데이터를 넣어서 연산은 파이썬 바깥(텐서플로우)쪽에서 처리\n",
    "        \n",
    "    - 구동 원리\n",
    "        - 파이썬에서 무거운 작업을 독립적으로 수행 안함\n",
    "        - 상호연관있는 수행작업들을 그래프로 기술하고\n",
    "        - 연산은 파이썬의 바깥, 텐서플로우에서 처리 동작\n",
    "        - 코드는 관계 설정 + 구동\n",
    "        \n",
    "        \n",
    "- 케라스\n",
    "    - 텐서플로우의 고수준 API\n",
    "        - 엔진이 아니라 인터페이스\n",
    "    - 어떤 엔진을 사용해도 동일한 코드로 작동한다는 것이 모토\n",
    "    - 단, 텐서플로우에 keras가 들어가 있다\n",
    "    - 문과생을 위한 딥러닝 도구"
   ]
  },
  {
   "cell_type": "markdown",
   "id": "eb943f89",
   "metadata": {},
   "source": [
    "## pyTorch(파이토치)\n",
    "\n",
    "- 개요\n",
    "    - python/C++/Java 딥러닝 구현을 위한 오픈소스 라이브러리\n",
    "    - gpu 지원은 nvidia만 가능(CUDA만 사용가능)\n",
    "    - Lua(루아, 핵심사용언어), C++ 등으로 개발\n",
    "    - Facebook 인공지능팀 개발(= 뉴욕대 협업)\n",
    "    \n",
    "- 장점\n",
    "    - numpy를 기반으로 Tensor 연산을 GPU로 수행가능\n",
    "    - 자동 미분 시스템을 이용하여 모델을 손쉽게 구성\n",
    "    - 복잡하고, 계산양이 큰 그래프를 쉽게 구성"
   ]
  },
  {
   "cell_type": "code",
   "execution_count": null,
   "id": "8a71d1c0",
   "metadata": {},
   "outputs": [],
   "source": []
  }
 ],
 "metadata": {
  "kernelspec": {
   "display_name": "Python 3 (ipykernel)",
   "language": "python",
   "name": "python3"
  },
  "language_info": {
   "codemirror_mode": {
    "name": "ipython",
    "version": 3
   },
   "file_extension": ".py",
   "mimetype": "text/x-python",
   "name": "python",
   "nbconvert_exporter": "python",
   "pygments_lexer": "ipython3",
   "version": "3.10.9"
  }
 },
 "nbformat": 4,
 "nbformat_minor": 5
}
