{
 "cells": [
  {
   "cell_type": "code",
   "execution_count": 28,
   "id": "1d18486b",
   "metadata": {},
   "outputs": [],
   "source": [
    "from tensorflow import keras\n",
    "import pandas as pd\n",
    "import numpy as np\n",
    "from sklearn import datasets\n",
    "from sklearn.model_selection import train_test_split\n",
    "from sklearn.preprocessing import MinMaxScaler"
   ]
  },
  {
   "cell_type": "code",
   "execution_count": 2,
   "id": "acdd5320",
   "metadata": {},
   "outputs": [],
   "source": [
    "data = datasets.load_iris()"
   ]
  },
  {
   "cell_type": "code",
   "execution_count": 4,
   "id": "7fd9d925",
   "metadata": {},
   "outputs": [],
   "source": [
    "df = pd.DataFrame(data.data, columns = data.feature_names)"
   ]
  },
  {
   "cell_type": "code",
   "execution_count": 5,
   "id": "f1474353",
   "metadata": {},
   "outputs": [
    {
     "data": {
      "text/html": [
       "<div>\n",
       "<style scoped>\n",
       "    .dataframe tbody tr th:only-of-type {\n",
       "        vertical-align: middle;\n",
       "    }\n",
       "\n",
       "    .dataframe tbody tr th {\n",
       "        vertical-align: top;\n",
       "    }\n",
       "\n",
       "    .dataframe thead th {\n",
       "        text-align: right;\n",
       "    }\n",
       "</style>\n",
       "<table border=\"1\" class=\"dataframe\">\n",
       "  <thead>\n",
       "    <tr style=\"text-align: right;\">\n",
       "      <th></th>\n",
       "      <th>sepal length (cm)</th>\n",
       "      <th>sepal width (cm)</th>\n",
       "      <th>petal length (cm)</th>\n",
       "      <th>petal width (cm)</th>\n",
       "    </tr>\n",
       "  </thead>\n",
       "  <tbody>\n",
       "    <tr>\n",
       "      <th>0</th>\n",
       "      <td>5.1</td>\n",
       "      <td>3.5</td>\n",
       "      <td>1.4</td>\n",
       "      <td>0.2</td>\n",
       "    </tr>\n",
       "    <tr>\n",
       "      <th>1</th>\n",
       "      <td>4.9</td>\n",
       "      <td>3.0</td>\n",
       "      <td>1.4</td>\n",
       "      <td>0.2</td>\n",
       "    </tr>\n",
       "    <tr>\n",
       "      <th>2</th>\n",
       "      <td>4.7</td>\n",
       "      <td>3.2</td>\n",
       "      <td>1.3</td>\n",
       "      <td>0.2</td>\n",
       "    </tr>\n",
       "    <tr>\n",
       "      <th>3</th>\n",
       "      <td>4.6</td>\n",
       "      <td>3.1</td>\n",
       "      <td>1.5</td>\n",
       "      <td>0.2</td>\n",
       "    </tr>\n",
       "    <tr>\n",
       "      <th>4</th>\n",
       "      <td>5.0</td>\n",
       "      <td>3.6</td>\n",
       "      <td>1.4</td>\n",
       "      <td>0.2</td>\n",
       "    </tr>\n",
       "  </tbody>\n",
       "</table>\n",
       "</div>"
      ],
      "text/plain": [
       "   sepal length (cm)  sepal width (cm)  petal length (cm)  petal width (cm)\n",
       "0                5.1               3.5                1.4               0.2\n",
       "1                4.9               3.0                1.4               0.2\n",
       "2                4.7               3.2                1.3               0.2\n",
       "3                4.6               3.1                1.5               0.2\n",
       "4                5.0               3.6                1.4               0.2"
      ]
     },
     "execution_count": 5,
     "metadata": {},
     "output_type": "execute_result"
    }
   ],
   "source": [
    "df.head()"
   ]
  },
  {
   "cell_type": "code",
   "execution_count": 6,
   "id": "da10e330",
   "metadata": {},
   "outputs": [],
   "source": [
    "df[\"species\"] = data.target"
   ]
  },
  {
   "cell_type": "code",
   "execution_count": 7,
   "id": "e873aae8",
   "metadata": {},
   "outputs": [
    {
     "data": {
      "text/html": [
       "<div>\n",
       "<style scoped>\n",
       "    .dataframe tbody tr th:only-of-type {\n",
       "        vertical-align: middle;\n",
       "    }\n",
       "\n",
       "    .dataframe tbody tr th {\n",
       "        vertical-align: top;\n",
       "    }\n",
       "\n",
       "    .dataframe thead th {\n",
       "        text-align: right;\n",
       "    }\n",
       "</style>\n",
       "<table border=\"1\" class=\"dataframe\">\n",
       "  <thead>\n",
       "    <tr style=\"text-align: right;\">\n",
       "      <th></th>\n",
       "      <th>sepal length (cm)</th>\n",
       "      <th>sepal width (cm)</th>\n",
       "      <th>petal length (cm)</th>\n",
       "      <th>petal width (cm)</th>\n",
       "      <th>species</th>\n",
       "    </tr>\n",
       "  </thead>\n",
       "  <tbody>\n",
       "    <tr>\n",
       "      <th>0</th>\n",
       "      <td>5.1</td>\n",
       "      <td>3.5</td>\n",
       "      <td>1.4</td>\n",
       "      <td>0.2</td>\n",
       "      <td>0</td>\n",
       "    </tr>\n",
       "    <tr>\n",
       "      <th>1</th>\n",
       "      <td>4.9</td>\n",
       "      <td>3.0</td>\n",
       "      <td>1.4</td>\n",
       "      <td>0.2</td>\n",
       "      <td>0</td>\n",
       "    </tr>\n",
       "    <tr>\n",
       "      <th>2</th>\n",
       "      <td>4.7</td>\n",
       "      <td>3.2</td>\n",
       "      <td>1.3</td>\n",
       "      <td>0.2</td>\n",
       "      <td>0</td>\n",
       "    </tr>\n",
       "    <tr>\n",
       "      <th>3</th>\n",
       "      <td>4.6</td>\n",
       "      <td>3.1</td>\n",
       "      <td>1.5</td>\n",
       "      <td>0.2</td>\n",
       "      <td>0</td>\n",
       "    </tr>\n",
       "    <tr>\n",
       "      <th>4</th>\n",
       "      <td>5.0</td>\n",
       "      <td>3.6</td>\n",
       "      <td>1.4</td>\n",
       "      <td>0.2</td>\n",
       "      <td>0</td>\n",
       "    </tr>\n",
       "  </tbody>\n",
       "</table>\n",
       "</div>"
      ],
      "text/plain": [
       "   sepal length (cm)  sepal width (cm)  petal length (cm)  petal width (cm)  \\\n",
       "0                5.1               3.5                1.4               0.2   \n",
       "1                4.9               3.0                1.4               0.2   \n",
       "2                4.7               3.2                1.3               0.2   \n",
       "3                4.6               3.1                1.5               0.2   \n",
       "4                5.0               3.6                1.4               0.2   \n",
       "\n",
       "   species  \n",
       "0        0  \n",
       "1        0  \n",
       "2        0  \n",
       "3        0  \n",
       "4        0  "
      ]
     },
     "execution_count": 7,
     "metadata": {},
     "output_type": "execute_result"
    }
   ],
   "source": [
    "df.head()"
   ]
  },
  {
   "cell_type": "code",
   "execution_count": 8,
   "id": "14d2e34c",
   "metadata": {},
   "outputs": [
    {
     "data": {
      "text/plain": [
       "array([0, 1, 2])"
      ]
     },
     "execution_count": 8,
     "metadata": {},
     "output_type": "execute_result"
    }
   ],
   "source": [
    "df[\"species\"].unique()"
   ]
  },
  {
   "cell_type": "code",
   "execution_count": 9,
   "id": "eba3fe85",
   "metadata": {},
   "outputs": [
    {
     "data": {
      "text/plain": [
       "array(['setosa', 'versicolor', 'virginica'], dtype='<U10')"
      ]
     },
     "execution_count": 9,
     "metadata": {},
     "output_type": "execute_result"
    }
   ],
   "source": [
    "data.target_names"
   ]
  },
  {
   "cell_type": "code",
   "execution_count": 9,
   "id": "0fc3756d",
   "metadata": {},
   "outputs": [],
   "source": [
    "x = df.drop(\"species\", axis = 1)\n",
    "y = df[\"species\"]"
   ]
  },
  {
   "cell_type": "code",
   "execution_count": 10,
   "id": "94e2e9a3",
   "metadata": {},
   "outputs": [
    {
     "data": {
      "text/plain": [
       "0    50\n",
       "1    50\n",
       "2    50\n",
       "Name: species, dtype: int64"
      ]
     },
     "execution_count": 10,
     "metadata": {},
     "output_type": "execute_result"
    }
   ],
   "source": [
    "y.value_counts()"
   ]
  },
  {
   "cell_type": "code",
   "execution_count": 13,
   "id": "d46e6b01",
   "metadata": {},
   "outputs": [],
   "source": [
    "# 데이터 분할\n",
    "x_train, x_test, y_train, y_test = train_test_split(x, y, test_size = 0.2, random_state = 5,\n",
    "                                                    stratify = y)"
   ]
  },
  {
   "cell_type": "code",
   "execution_count": 14,
   "id": "58657dc2",
   "metadata": {},
   "outputs": [
    {
     "data": {
      "text/plain": [
       "((120, 4), (30, 4))"
      ]
     },
     "execution_count": 14,
     "metadata": {},
     "output_type": "execute_result"
    }
   ],
   "source": [
    "x_train.shape, x_test.shape"
   ]
  },
  {
   "cell_type": "code",
   "execution_count": 15,
   "id": "18c6c5d8",
   "metadata": {},
   "outputs": [],
   "source": [
    "# 스케일링\n",
    "mm = MinMaxScaler()\n",
    "scaled_train = mm.fit_transform(x_train)\n",
    "scaled_test = mm.transform(x_test)"
   ]
  },
  {
   "cell_type": "code",
   "execution_count": 21,
   "id": "d91a07cc",
   "metadata": {},
   "outputs": [],
   "source": [
    "# 모델 구성\n",
    "model = keras.Sequential()\n",
    "model.add(keras.layers.Dense(16, activation = \"relu\", input_shape = (4,))) # 은닉층\n",
    "model.add(keras.layers.Dense(3, activation = \"softmax\")) # 출력층"
   ]
  },
  {
   "cell_type": "code",
   "execution_count": 22,
   "id": "1af1887a",
   "metadata": {},
   "outputs": [
    {
     "name": "stdout",
     "output_type": "stream",
     "text": [
      "Model: \"sequential_1\"\n",
      "_________________________________________________________________\n",
      " Layer (type)                Output Shape              Param #   \n",
      "=================================================================\n",
      " dense_2 (Dense)             (None, 16)                80        \n",
      "                                                                 \n",
      " dense_3 (Dense)             (None, 3)                 51        \n",
      "                                                                 \n",
      "=================================================================\n",
      "Total params: 131\n",
      "Trainable params: 131\n",
      "Non-trainable params: 0\n",
      "_________________________________________________________________\n"
     ]
    }
   ],
   "source": [
    "model.summary()"
   ]
  },
  {
   "cell_type": "code",
   "execution_count": 23,
   "id": "95daa0a0",
   "metadata": {},
   "outputs": [],
   "source": [
    "model.compile(loss = \"sparse_categorical_crossentropy\",\n",
    "              optimizer = \"adam\",\n",
    "              metrics = [\"accuracy\"])"
   ]
  },
  {
   "cell_type": "code",
   "execution_count": 24,
   "id": "d0f3f651",
   "metadata": {
    "scrolled": true
   },
   "outputs": [
    {
     "name": "stdout",
     "output_type": "stream",
     "text": [
      "Epoch 1/50\n",
      "6/6 [==============================] - 1s 38ms/step - loss: 1.1107 - accuracy: 0.2708 - val_loss: 1.1043 - val_accuracy: 0.3333\n",
      "Epoch 2/50\n",
      "6/6 [==============================] - 0s 12ms/step - loss: 1.1027 - accuracy: 0.2812 - val_loss: 1.1012 - val_accuracy: 0.2500\n",
      "Epoch 3/50\n",
      "6/6 [==============================] - 0s 16ms/step - loss: 1.0960 - accuracy: 0.2917 - val_loss: 1.0993 - val_accuracy: 0.2083\n",
      "Epoch 4/50\n",
      "6/6 [==============================] - 0s 18ms/step - loss: 1.0890 - accuracy: 0.2812 - val_loss: 1.0975 - val_accuracy: 0.2500\n",
      "Epoch 5/50\n",
      "6/6 [==============================] - 0s 15ms/step - loss: 1.0843 - accuracy: 0.3125 - val_loss: 1.0970 - val_accuracy: 0.1667\n",
      "Epoch 6/50\n",
      "6/6 [==============================] - 0s 12ms/step - loss: 1.0793 - accuracy: 0.3646 - val_loss: 1.0959 - val_accuracy: 0.1667\n",
      "Epoch 7/50\n",
      "6/6 [==============================] - 0s 16ms/step - loss: 1.0754 - accuracy: 0.3542 - val_loss: 1.0950 - val_accuracy: 0.1250\n",
      "Epoch 8/50\n",
      "6/6 [==============================] - 0s 16ms/step - loss: 1.0718 - accuracy: 0.3646 - val_loss: 1.0942 - val_accuracy: 0.1250\n",
      "Epoch 9/50\n",
      "6/6 [==============================] - 0s 15ms/step - loss: 1.0683 - accuracy: 0.3438 - val_loss: 1.0933 - val_accuracy: 0.1250\n",
      "Epoch 10/50\n",
      "6/6 [==============================] - 0s 12ms/step - loss: 1.0646 - accuracy: 0.3333 - val_loss: 1.0915 - val_accuracy: 0.1250\n",
      "Epoch 11/50\n",
      "6/6 [==============================] - 0s 13ms/step - loss: 1.0618 - accuracy: 0.3542 - val_loss: 1.0910 - val_accuracy: 0.1667\n",
      "Epoch 12/50\n",
      "6/6 [==============================] - 0s 12ms/step - loss: 1.0588 - accuracy: 0.3438 - val_loss: 1.0906 - val_accuracy: 0.1667\n",
      "Epoch 13/50\n",
      "6/6 [==============================] - 0s 11ms/step - loss: 1.0548 - accuracy: 0.3542 - val_loss: 1.0886 - val_accuracy: 0.1667\n",
      "Epoch 14/50\n",
      "6/6 [==============================] - 0s 13ms/step - loss: 1.0514 - accuracy: 0.3542 - val_loss: 1.0866 - val_accuracy: 0.1667\n",
      "Epoch 15/50\n",
      "6/6 [==============================] - 0s 19ms/step - loss: 1.0484 - accuracy: 0.3542 - val_loss: 1.0852 - val_accuracy: 0.1667\n",
      "Epoch 16/50\n",
      "6/6 [==============================] - 0s 11ms/step - loss: 1.0452 - accuracy: 0.3542 - val_loss: 1.0829 - val_accuracy: 0.1667\n",
      "Epoch 17/50\n",
      "6/6 [==============================] - 0s 13ms/step - loss: 1.0419 - accuracy: 0.3542 - val_loss: 1.0812 - val_accuracy: 0.2083\n",
      "Epoch 18/50\n",
      "6/6 [==============================] - 0s 13ms/step - loss: 1.0385 - accuracy: 0.3542 - val_loss: 1.0787 - val_accuracy: 0.2083\n",
      "Epoch 19/50\n",
      "6/6 [==============================] - 0s 11ms/step - loss: 1.0353 - accuracy: 0.3542 - val_loss: 1.0769 - val_accuracy: 0.2083\n",
      "Epoch 20/50\n",
      "6/6 [==============================] - 0s 14ms/step - loss: 1.0318 - accuracy: 0.3542 - val_loss: 1.0746 - val_accuracy: 0.2083\n",
      "Epoch 21/50\n",
      "6/6 [==============================] - 0s 13ms/step - loss: 1.0283 - accuracy: 0.3542 - val_loss: 1.0723 - val_accuracy: 0.2083\n",
      "Epoch 22/50\n",
      "6/6 [==============================] - 0s 15ms/step - loss: 1.0249 - accuracy: 0.3542 - val_loss: 1.0698 - val_accuracy: 0.2500\n",
      "Epoch 23/50\n",
      "6/6 [==============================] - 0s 12ms/step - loss: 1.0212 - accuracy: 0.3542 - val_loss: 1.0671 - val_accuracy: 0.2500\n",
      "Epoch 24/50\n",
      "6/6 [==============================] - 0s 12ms/step - loss: 1.0174 - accuracy: 0.3542 - val_loss: 1.0643 - val_accuracy: 0.2500\n",
      "Epoch 25/50\n",
      "6/6 [==============================] - 0s 12ms/step - loss: 1.0139 - accuracy: 0.3646 - val_loss: 1.0616 - val_accuracy: 0.2500\n",
      "Epoch 26/50\n",
      "6/6 [==============================] - 0s 16ms/step - loss: 1.0099 - accuracy: 0.3646 - val_loss: 1.0586 - val_accuracy: 0.2500\n",
      "Epoch 27/50\n",
      "6/6 [==============================] - 0s 11ms/step - loss: 1.0058 - accuracy: 0.3542 - val_loss: 1.0540 - val_accuracy: 0.2917\n",
      "Epoch 28/50\n",
      "6/6 [==============================] - 0s 10ms/step - loss: 1.0018 - accuracy: 0.3542 - val_loss: 1.0500 - val_accuracy: 0.3333\n",
      "Epoch 29/50\n",
      "6/6 [==============================] - 0s 16ms/step - loss: 0.9976 - accuracy: 0.3542 - val_loss: 1.0465 - val_accuracy: 0.3333\n",
      "Epoch 30/50\n",
      "6/6 [==============================] - 0s 13ms/step - loss: 0.9935 - accuracy: 0.3542 - val_loss: 1.0417 - val_accuracy: 0.3333\n",
      "Epoch 31/50\n",
      "6/6 [==============================] - 0s 16ms/step - loss: 0.9888 - accuracy: 0.3542 - val_loss: 1.0381 - val_accuracy: 0.3750\n",
      "Epoch 32/50\n",
      "6/6 [==============================] - 0s 16ms/step - loss: 0.9845 - accuracy: 0.3542 - val_loss: 1.0347 - val_accuracy: 0.3750\n",
      "Epoch 33/50\n",
      "6/6 [==============================] - 0s 10ms/step - loss: 0.9797 - accuracy: 0.3646 - val_loss: 1.0302 - val_accuracy: 0.3750\n",
      "Epoch 34/50\n",
      "6/6 [==============================] - 0s 14ms/step - loss: 0.9749 - accuracy: 0.3750 - val_loss: 1.0258 - val_accuracy: 0.3750\n",
      "Epoch 35/50\n",
      "6/6 [==============================] - 0s 10ms/step - loss: 0.9700 - accuracy: 0.3958 - val_loss: 1.0213 - val_accuracy: 0.4167\n",
      "Epoch 36/50\n",
      "6/6 [==============================] - 0s 12ms/step - loss: 0.9652 - accuracy: 0.4271 - val_loss: 1.0164 - val_accuracy: 0.4583\n",
      "Epoch 37/50\n",
      "6/6 [==============================] - 0s 14ms/step - loss: 0.9600 - accuracy: 0.4583 - val_loss: 1.0114 - val_accuracy: 0.4583\n",
      "Epoch 38/50\n",
      "6/6 [==============================] - 0s 15ms/step - loss: 0.9546 - accuracy: 0.5000 - val_loss: 1.0064 - val_accuracy: 0.4583\n",
      "Epoch 39/50\n",
      "6/6 [==============================] - 0s 14ms/step - loss: 0.9492 - accuracy: 0.5312 - val_loss: 1.0008 - val_accuracy: 0.5000\n",
      "Epoch 40/50\n",
      "6/6 [==============================] - 0s 11ms/step - loss: 0.9437 - accuracy: 0.5625 - val_loss: 0.9961 - val_accuracy: 0.5000\n",
      "Epoch 41/50\n",
      "6/6 [==============================] - 0s 18ms/step - loss: 0.9378 - accuracy: 0.5938 - val_loss: 0.9906 - val_accuracy: 0.5417\n",
      "Epoch 42/50\n",
      "6/6 [==============================] - 0s 13ms/step - loss: 0.9317 - accuracy: 0.6250 - val_loss: 0.9847 - val_accuracy: 0.5417\n",
      "Epoch 43/50\n",
      "6/6 [==============================] - 0s 14ms/step - loss: 0.9259 - accuracy: 0.6354 - val_loss: 0.9784 - val_accuracy: 0.5417\n",
      "Epoch 44/50\n",
      "6/6 [==============================] - 0s 13ms/step - loss: 0.9199 - accuracy: 0.6458 - val_loss: 0.9724 - val_accuracy: 0.5417\n",
      "Epoch 45/50\n",
      "6/6 [==============================] - 0s 12ms/step - loss: 0.9135 - accuracy: 0.6667 - val_loss: 0.9665 - val_accuracy: 0.5833\n",
      "Epoch 46/50\n",
      "6/6 [==============================] - 0s 10ms/step - loss: 0.9070 - accuracy: 0.6875 - val_loss: 0.9601 - val_accuracy: 0.6250\n",
      "Epoch 47/50\n",
      "6/6 [==============================] - 0s 14ms/step - loss: 0.9010 - accuracy: 0.6875 - val_loss: 0.9544 - val_accuracy: 0.6250\n",
      "Epoch 48/50\n",
      "6/6 [==============================] - 0s 14ms/step - loss: 0.8943 - accuracy: 0.6875 - val_loss: 0.9475 - val_accuracy: 0.6250\n",
      "Epoch 49/50\n",
      "6/6 [==============================] - 0s 13ms/step - loss: 0.8876 - accuracy: 0.6875 - val_loss: 0.9409 - val_accuracy: 0.6250\n",
      "Epoch 50/50\n",
      "6/6 [==============================] - 0s 14ms/step - loss: 0.8811 - accuracy: 0.6875 - val_loss: 0.9342 - val_accuracy: 0.6250\n"
     ]
    },
    {
     "data": {
      "text/plain": [
       "<keras.callbacks.History at 0x1f11ff883a0>"
      ]
     },
     "execution_count": 24,
     "metadata": {},
     "output_type": "execute_result"
    }
   ],
   "source": [
    "model.fit(scaled_train, y_train, epochs = 50, batch_size = 16, validation_split = 0.2)"
   ]
  },
  {
   "cell_type": "code",
   "execution_count": 25,
   "id": "fb710093",
   "metadata": {},
   "outputs": [
    {
     "name": "stdout",
     "output_type": "stream",
     "text": [
      "1/1 [==============================] - 0s 36ms/step - loss: 0.8741 - accuracy: 0.7333\n"
     ]
    },
    {
     "data": {
      "text/plain": [
       "[0.8740729689598083, 0.7333333492279053]"
      ]
     },
     "execution_count": 25,
     "metadata": {},
     "output_type": "execute_result"
    }
   ],
   "source": [
    "model.evaluate(scaled_test, y_test)"
   ]
  },
  {
   "cell_type": "code",
   "execution_count": 29,
   "id": "8fdddd99",
   "metadata": {},
   "outputs": [
    {
     "name": "stdout",
     "output_type": "stream",
     "text": [
      "1/1 [==============================] - 0s 22ms/step\n"
     ]
    },
    {
     "data": {
      "text/plain": [
       "array([0, 0, 0, 2, 1, 2, 0, 0, 2, 2, 0, 0, 2, 2, 2, 2, 2, 2, 0, 2, 0, 2,\n",
       "       2, 2, 1, 0, 2, 2, 2, 2], dtype=int64)"
      ]
     },
     "execution_count": 29,
     "metadata": {},
     "output_type": "execute_result"
    }
   ],
   "source": [
    "np.argmax(model.predict(scaled_test), axis = 1)"
   ]
  },
  {
   "cell_type": "code",
   "execution_count": 30,
   "id": "24aa00d3",
   "metadata": {},
   "outputs": [
    {
     "data": {
      "text/plain": [
       "36     0\n",
       "27     0\n",
       "38     0\n",
       "105    2\n",
       "93     1\n",
       "141    2\n",
       "9      0\n",
       "16     0\n",
       "80     1\n",
       "94     1\n",
       "8      0\n",
       "39     0\n",
       "86     1\n",
       "118    2\n",
       "53     1\n",
       "124    2\n",
       "111    2\n",
       "129    2\n",
       "47     0\n",
       "61     1\n",
       "35     0\n",
       "92     1\n",
       "127    2\n",
       "133    2\n",
       "57     1\n",
       "14     0\n",
       "148    2\n",
       "122    2\n",
       "51     1\n",
       "95     1\n",
       "Name: species, dtype: int32"
      ]
     },
     "execution_count": 30,
     "metadata": {},
     "output_type": "execute_result"
    }
   ],
   "source": [
    "y_test"
   ]
  },
  {
   "cell_type": "code",
   "execution_count": null,
   "id": "b9260c32",
   "metadata": {},
   "outputs": [],
   "source": []
  },
  {
   "cell_type": "code",
   "execution_count": null,
   "id": "c1b8aa1e",
   "metadata": {},
   "outputs": [],
   "source": []
  },
  {
   "cell_type": "code",
   "execution_count": null,
   "id": "b98654fa",
   "metadata": {},
   "outputs": [],
   "source": []
  },
  {
   "cell_type": "code",
   "execution_count": null,
   "id": "85c72a51",
   "metadata": {},
   "outputs": [],
   "source": []
  },
  {
   "cell_type": "code",
   "execution_count": null,
   "id": "58ef0c33",
   "metadata": {},
   "outputs": [],
   "source": []
  },
  {
   "cell_type": "code",
   "execution_count": null,
   "id": "84d55436",
   "metadata": {},
   "outputs": [],
   "source": []
  },
  {
   "cell_type": "code",
   "execution_count": null,
   "id": "cec674cc",
   "metadata": {},
   "outputs": [],
   "source": []
  },
  {
   "cell_type": "code",
   "execution_count": null,
   "id": "3492c2a8",
   "metadata": {},
   "outputs": [],
   "source": []
  },
  {
   "cell_type": "code",
   "execution_count": null,
   "id": "a83bc116",
   "metadata": {},
   "outputs": [],
   "source": []
  },
  {
   "cell_type": "code",
   "execution_count": null,
   "id": "d8afc4df",
   "metadata": {},
   "outputs": [],
   "source": []
  },
  {
   "cell_type": "code",
   "execution_count": null,
   "id": "b7b20a21",
   "metadata": {},
   "outputs": [],
   "source": []
  },
  {
   "cell_type": "code",
   "execution_count": null,
   "id": "296f7656",
   "metadata": {},
   "outputs": [],
   "source": []
  },
  {
   "cell_type": "code",
   "execution_count": null,
   "id": "cf9dc61c",
   "metadata": {},
   "outputs": [],
   "source": []
  },
  {
   "cell_type": "code",
   "execution_count": null,
   "id": "7ad7a3d2",
   "metadata": {},
   "outputs": [],
   "source": []
  },
  {
   "cell_type": "code",
   "execution_count": null,
   "id": "c30e1cae",
   "metadata": {},
   "outputs": [],
   "source": []
  },
  {
   "cell_type": "code",
   "execution_count": null,
   "id": "32acf951",
   "metadata": {},
   "outputs": [],
   "source": []
  },
  {
   "cell_type": "code",
   "execution_count": null,
   "id": "5d02a6f1",
   "metadata": {},
   "outputs": [],
   "source": []
  },
  {
   "cell_type": "code",
   "execution_count": null,
   "id": "1ae9ccd2",
   "metadata": {},
   "outputs": [],
   "source": []
  },
  {
   "cell_type": "code",
   "execution_count": null,
   "id": "cef75b54",
   "metadata": {},
   "outputs": [],
   "source": []
  },
  {
   "cell_type": "code",
   "execution_count": null,
   "id": "1f2368bd",
   "metadata": {},
   "outputs": [],
   "source": []
  },
  {
   "cell_type": "code",
   "execution_count": null,
   "id": "16e92919",
   "metadata": {},
   "outputs": [],
   "source": []
  },
  {
   "cell_type": "code",
   "execution_count": null,
   "id": "a9169158",
   "metadata": {},
   "outputs": [],
   "source": []
  },
  {
   "cell_type": "code",
   "execution_count": null,
   "id": "d027b8e8",
   "metadata": {},
   "outputs": [],
   "source": []
  },
  {
   "cell_type": "code",
   "execution_count": null,
   "id": "7f07dda6",
   "metadata": {},
   "outputs": [],
   "source": []
  },
  {
   "cell_type": "code",
   "execution_count": null,
   "id": "36f496e0",
   "metadata": {},
   "outputs": [],
   "source": []
  },
  {
   "cell_type": "code",
   "execution_count": null,
   "id": "b685fffc",
   "metadata": {},
   "outputs": [],
   "source": []
  },
  {
   "cell_type": "code",
   "execution_count": null,
   "id": "a783322f",
   "metadata": {},
   "outputs": [],
   "source": []
  },
  {
   "cell_type": "code",
   "execution_count": null,
   "id": "64bb7090",
   "metadata": {},
   "outputs": [],
   "source": []
  },
  {
   "cell_type": "code",
   "execution_count": null,
   "id": "957a0ba8",
   "metadata": {},
   "outputs": [],
   "source": []
  },
  {
   "cell_type": "code",
   "execution_count": null,
   "id": "e51210e7",
   "metadata": {},
   "outputs": [],
   "source": []
  },
  {
   "cell_type": "code",
   "execution_count": null,
   "id": "ea39caad",
   "metadata": {},
   "outputs": [],
   "source": []
  },
  {
   "cell_type": "code",
   "execution_count": null,
   "id": "1d4eafd8",
   "metadata": {},
   "outputs": [],
   "source": []
  },
  {
   "cell_type": "code",
   "execution_count": null,
   "id": "9ec7eef2",
   "metadata": {},
   "outputs": [],
   "source": []
  },
  {
   "cell_type": "code",
   "execution_count": null,
   "id": "44587474",
   "metadata": {},
   "outputs": [],
   "source": []
  },
  {
   "cell_type": "code",
   "execution_count": null,
   "id": "d13a9bc5",
   "metadata": {},
   "outputs": [],
   "source": []
  },
  {
   "cell_type": "code",
   "execution_count": null,
   "id": "a794ce77",
   "metadata": {},
   "outputs": [],
   "source": []
  },
  {
   "cell_type": "code",
   "execution_count": null,
   "id": "55bfbbcf",
   "metadata": {},
   "outputs": [],
   "source": []
  },
  {
   "cell_type": "code",
   "execution_count": null,
   "id": "96f5834b",
   "metadata": {},
   "outputs": [],
   "source": []
  },
  {
   "cell_type": "code",
   "execution_count": null,
   "id": "c2d12557",
   "metadata": {},
   "outputs": [],
   "source": []
  },
  {
   "cell_type": "code",
   "execution_count": null,
   "id": "b735a8d2",
   "metadata": {},
   "outputs": [],
   "source": []
  }
 ],
 "metadata": {
  "kernelspec": {
   "display_name": "Python 3 (ipykernel)",
   "language": "python",
   "name": "python3"
  },
  "language_info": {
   "codemirror_mode": {
    "name": "ipython",
    "version": 3
   },
   "file_extension": ".py",
   "mimetype": "text/x-python",
   "name": "python",
   "nbconvert_exporter": "python",
   "pygments_lexer": "ipython3",
   "version": "3.11.5"
  }
 },
 "nbformat": 4,
 "nbformat_minor": 5
}
