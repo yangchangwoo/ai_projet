{
 "cells": [
  {
   "cell_type": "code",
   "execution_count": 1,
   "id": "8e1bd7ee",
   "metadata": {},
   "outputs": [],
   "source": [
    "from tensorflow import keras\n",
    "import matplotlib.pyplot as plt\n",
    "import numpy as np"
   ]
  },
  {
   "cell_type": "markdown",
   "id": "87db7a09",
   "metadata": {},
   "source": [
    "# 데이터 준비"
   ]
  },
  {
   "cell_type": "code",
   "execution_count": 2,
   "id": "851c255f",
   "metadata": {},
   "outputs": [],
   "source": [
    "# fashion mnist 데이터셋 로드\n",
    "(x_train, y_train), (x_test, y_test) = keras.datasets.fashion_mnist.load_data()"
   ]
  },
  {
   "cell_type": "code",
   "execution_count": 3,
   "id": "3fbd9a00",
   "metadata": {},
   "outputs": [],
   "source": [
    "# 이미지 입력시에는 채널에 대한 정보가 있어야함\n",
    "# 지금은 Conv2D를 적용하기 위해서 채널 차원을 추가\n",
    "scaled_train = x_train.reshape(-1, 28, 28, 1) / 255"
   ]
  },
  {
   "cell_type": "code",
   "execution_count": 4,
   "id": "b309db5e",
   "metadata": {},
   "outputs": [
    {
     "data": {
      "text/plain": [
       "(60000, 28, 28)"
      ]
     },
     "execution_count": 4,
     "metadata": {},
     "output_type": "execute_result"
    }
   ],
   "source": [
    "x_train.shape"
   ]
  },
  {
   "cell_type": "code",
   "execution_count": 5,
   "id": "28542295",
   "metadata": {},
   "outputs": [
    {
     "data": {
      "text/plain": [
       "(60000, 28, 28, 1)"
      ]
     },
     "execution_count": 5,
     "metadata": {},
     "output_type": "execute_result"
    }
   ],
   "source": [
    "scaled_train.shape"
   ]
  },
  {
   "cell_type": "code",
   "execution_count": 6,
   "id": "158fbdff",
   "metadata": {},
   "outputs": [
    {
     "data": {
      "text/plain": [
       "array([0, 0, 0, 0, 0, 0, 0, 0, 0, 0, 0, 0, 0, 0, 0, 0, 0, 0, 0, 0, 0, 0,\n",
       "       0, 0, 0, 0, 0, 0], dtype=uint8)"
      ]
     },
     "execution_count": 6,
     "metadata": {},
     "output_type": "execute_result"
    }
   ],
   "source": [
    "x_train[0, 0]"
   ]
  },
  {
   "cell_type": "code",
   "execution_count": 7,
   "id": "926c5808",
   "metadata": {
    "scrolled": true
   },
   "outputs": [
    {
     "data": {
      "text/plain": [
       "array([[0.],\n",
       "       [0.],\n",
       "       [0.],\n",
       "       [0.],\n",
       "       [0.],\n",
       "       [0.],\n",
       "       [0.],\n",
       "       [0.],\n",
       "       [0.],\n",
       "       [0.],\n",
       "       [0.],\n",
       "       [0.],\n",
       "       [0.],\n",
       "       [0.],\n",
       "       [0.],\n",
       "       [0.],\n",
       "       [0.],\n",
       "       [0.],\n",
       "       [0.],\n",
       "       [0.],\n",
       "       [0.],\n",
       "       [0.],\n",
       "       [0.],\n",
       "       [0.],\n",
       "       [0.],\n",
       "       [0.],\n",
       "       [0.],\n",
       "       [0.]])"
      ]
     },
     "execution_count": 7,
     "metadata": {},
     "output_type": "execute_result"
    }
   ],
   "source": [
    "scaled_train[0, 0]"
   ]
  },
  {
   "cell_type": "markdown",
   "id": "1d07f356",
   "metadata": {},
   "source": [
    "# 합성곱 신경망 모델 구성\n",
    "\n",
    "1. 합성곱 층으로 이미지에서 특징을 감지\n",
    "2. 밀집층으로 클래스에 따른 분류 확률을 계산"
   ]
  },
  {
   "cell_type": "code",
   "execution_count": 8,
   "id": "93aa616d",
   "metadata": {},
   "outputs": [],
   "source": [
    "model = keras.Sequential()"
   ]
  },
  {
   "cell_type": "code",
   "execution_count": 9,
   "id": "872d6032",
   "metadata": {},
   "outputs": [],
   "source": [
    "# 합성곱층 추가\n",
    "model.add(keras.layers.Conv2D(32, kernel_size = 3, activation = \"relu\", padding = \"same\",\n",
    "                              input_shape = (28, 28, 1)))"
   ]
  },
  {
   "cell_type": "markdown",
   "id": "8fbe8b2c",
   "metadata": {},
   "source": [
    "- 패션MNIST 이미지가 (28, 28)크기에 세임 패딩을 적용, 32개의 필터 사용\n",
    "    - 출력되는 특성맵의 크기는 (28, 28, 32)"
   ]
  },
  {
   "cell_type": "code",
   "execution_count": 10,
   "id": "43a72d11",
   "metadata": {},
   "outputs": [],
   "source": [
    "# 풀링층 추가\n",
    "model.add(keras.layers.MaxPool2D(2))"
   ]
  },
  {
   "cell_type": "markdown",
   "id": "33fe346d",
   "metadata": {},
   "source": [
    "- (2, 2)크기의 커널을 이용하여 풀링을 적용해서 특성맵의 크기가 절반으로 줄어들고 특성맵의 깊이는 그대로\n",
    "    - 출력되는 특성맵의 크기는 (14, 14, 32)"
   ]
  },
  {
   "cell_type": "code",
   "execution_count": 11,
   "id": "ef85d3ae",
   "metadata": {},
   "outputs": [],
   "source": [
    "# 두 번째 합성곱 - 풀링층 추가\n",
    "model.add(keras.layers.Conv2D(64, kernel_size = 3, activation = \"relu\", padding = \"same\"))\n",
    "model.add(keras.layers.MaxPool2D(2))"
   ]
  },
  {
   "cell_type": "markdown",
   "id": "b9338ee1",
   "metadata": {},
   "source": [
    "- (14, 14) 크기에 세임 패딩, 64개 필터 사용\n",
    "    - 출력되는 특성맵의 크기 (14, 14, 64)\n",
    "    \n",
    "- (2, 2)크기의 커널을 이용하여 풀링\n",
    "    - 출력되는 특성맵의 크기 (7, 7, 64)"
   ]
  },
  {
   "cell_type": "code",
   "execution_count": 12,
   "id": "5d5bde23",
   "metadata": {},
   "outputs": [],
   "source": [
    "# 3차원 특성맵을 일렬로 펼침\n",
    "# 10개의 뉴런을 가진 밀집층에서 확률을 계산하기 때문에\n",
    "model.add(keras.layers.Flatten())"
   ]
  },
  {
   "cell_type": "code",
   "execution_count": 13,
   "id": "a1d97daf",
   "metadata": {},
   "outputs": [],
   "source": [
    "# 밀집 은닉층을 하나 더 추가한 후 드롭아웃을 넣어 과대적합을 방지하고 성능을 개선\n",
    "model.add(keras.layers.Dense(100, activation = \"relu\"))\n",
    "model.add(keras.layers.Dropout(0.4))"
   ]
  },
  {
   "cell_type": "code",
   "execution_count": 14,
   "id": "42d650bf",
   "metadata": {},
   "outputs": [],
   "source": [
    "# 출력층\n",
    "# 10개의 클래스를 분류하는 다중 분류\n",
    "model.add(keras.layers.Dense(10, activation = \"softmax\"))"
   ]
  },
  {
   "cell_type": "code",
   "execution_count": 15,
   "id": "b041bf4d",
   "metadata": {},
   "outputs": [
    {
     "name": "stdout",
     "output_type": "stream",
     "text": [
      "Model: \"sequential\"\n",
      "_________________________________________________________________\n",
      " Layer (type)                Output Shape              Param #   \n",
      "=================================================================\n",
      " conv2d (Conv2D)             (None, 28, 28, 32)        320       \n",
      "                                                                 \n",
      " max_pooling2d (MaxPooling2D  (None, 14, 14, 32)       0         \n",
      " )                                                               \n",
      "                                                                 \n",
      " conv2d_1 (Conv2D)           (None, 14, 14, 64)        18496     \n",
      "                                                                 \n",
      " max_pooling2d_1 (MaxPooling  (None, 7, 7, 64)         0         \n",
      " 2D)                                                             \n",
      "                                                                 \n",
      " flatten (Flatten)           (None, 3136)              0         \n",
      "                                                                 \n",
      " dense (Dense)               (None, 100)               313700    \n",
      "                                                                 \n",
      " dropout (Dropout)           (None, 100)               0         \n",
      "                                                                 \n",
      " dense_1 (Dense)             (None, 10)                1010      \n",
      "                                                                 \n",
      "=================================================================\n",
      "Total params: 333,526\n",
      "Trainable params: 333,526\n",
      "Non-trainable params: 0\n",
      "_________________________________________________________________\n"
     ]
    }
   ],
   "source": [
    "# 모델 구조 확인\n",
    "model.summary()"
   ]
  },
  {
   "cell_type": "markdown",
   "id": "02b64e79",
   "metadata": {},
   "source": [
    "- 파라미터 개수\n",
    "    - 첫 번째 합성곱 층\n",
    "        - 필터의 크기 : (3, 3, 1)\n",
    "        - 필터의 개수 : 32\n",
    "        - 3 * 3 * 1 * 32 + 32 = 320\n",
    "        \n",
    "    - 두 번째 합성곱 층\n",
    "        - 필터의 크기 : (3, 3, 32)\n",
    "        - 필터의 개수 : 64\n",
    "        - 3 * 3 * 32 * 64 + 64 = 18496\n",
    "        \n",
    "    - 밀집 은닉 층\n",
    "        - Flatten층에서 (3136,)크기의 배열이 전달 (7 * 7 * 64)\n",
    "        - 3136 * 100 + 100 = 313700\n",
    "        \n",
    "    - 출력층\n",
    "        - 밀집 은닉층에서 (100,) 크기의 배열이 전달\n",
    "        - 100 * 10 + 10 = 1010"
   ]
  },
  {
   "cell_type": "markdown",
   "id": "0711fe85",
   "metadata": {},
   "source": [
    "# 모델 훈련\n",
    "\n",
    "- 옵티마이저 : Adam\n",
    "- 콜백함수 : ModelCheckpoint, EarlyStopping"
   ]
  },
  {
   "cell_type": "code",
   "execution_count": 21,
   "id": "a3023846",
   "metadata": {},
   "outputs": [],
   "source": [
    "checkpoint_cb = keras.callbacks.ModelCheckpoint(\"./model/best-cnn-model.h5\",\n",
    "                                                save_best_only = True)\n",
    "early_stopping_cb = keras.callbacks.EarlyStopping(patience = 2, restore_best_weights = True)"
   ]
  },
  {
   "cell_type": "code",
   "execution_count": 22,
   "id": "9a1e9cfb",
   "metadata": {},
   "outputs": [],
   "source": [
    "model.compile(optimizer = \"adam\", loss = \"sparse_categorical_crossentropy\", metrics = \"accuracy\")"
   ]
  },
  {
   "cell_type": "code",
   "execution_count": 23,
   "id": "6c9ea61b",
   "metadata": {},
   "outputs": [
    {
     "name": "stdout",
     "output_type": "stream",
     "text": [
      "Epoch 1/20\n",
      "1500/1500 [==============================] - 19s 10ms/step - loss: 0.5122 - accuracy: 0.8195 - val_loss: 0.3302 - val_accuracy: 0.8798\n",
      "Epoch 2/20\n",
      "1500/1500 [==============================] - 15s 10ms/step - loss: 0.3351 - accuracy: 0.8799 - val_loss: 0.2730 - val_accuracy: 0.8998\n",
      "Epoch 3/20\n",
      "1500/1500 [==============================] - 15s 10ms/step - loss: 0.2872 - accuracy: 0.8964 - val_loss: 0.2617 - val_accuracy: 0.9026\n",
      "Epoch 4/20\n",
      "1500/1500 [==============================] - 15s 10ms/step - loss: 0.2538 - accuracy: 0.9082 - val_loss: 0.2572 - val_accuracy: 0.9049\n",
      "Epoch 5/20\n",
      "1500/1500 [==============================] - 17s 11ms/step - loss: 0.2316 - accuracy: 0.9149 - val_loss: 0.2297 - val_accuracy: 0.9170\n",
      "Epoch 6/20\n",
      "1500/1500 [==============================] - 16s 11ms/step - loss: 0.2108 - accuracy: 0.9221 - val_loss: 0.2452 - val_accuracy: 0.9127\n",
      "Epoch 7/20\n",
      "1500/1500 [==============================] - 16s 11ms/step - loss: 0.1948 - accuracy: 0.9279 - val_loss: 0.2256 - val_accuracy: 0.9190\n",
      "Epoch 8/20\n",
      "1500/1500 [==============================] - 16s 11ms/step - loss: 0.1797 - accuracy: 0.9324 - val_loss: 0.2287 - val_accuracy: 0.9203\n",
      "Epoch 9/20\n",
      "1500/1500 [==============================] - 16s 11ms/step - loss: 0.1670 - accuracy: 0.9369 - val_loss: 0.2377 - val_accuracy: 0.9149\n"
     ]
    }
   ],
   "source": [
    "history = model.fit(scaled_train, y_train, epochs = 20, validation_split = 0.2,\n",
    "                    callbacks = [checkpoint_cb, early_stopping_cb])"
   ]
  },
  {
   "cell_type": "markdown",
   "id": "3b6314ed",
   "metadata": {},
   "source": [
    "# 훈련 로그 확인"
   ]
  },
  {
   "cell_type": "code",
   "execution_count": 24,
   "id": "0b4172bd",
   "metadata": {},
   "outputs": [
    {
     "data": {
      "image/png": "[encoded data removed]",
      "text/plain": [
       "<Figure size 640x480 with 1 Axes>"
      ]
     },
     "metadata": {},
     "output_type": "display_data"
    }
   ],
   "source": [
    "plt.figure()\n",
    "\n",
    "plt.plot(history.history[\"loss\"], label = \"train_loss\")\n",
    "plt.plot(history.history[\"val_loss\"], label = \"val_loss\")\n",
    "plt.plot(history.history[\"accuracy\"], label = \"train_acc\")\n",
    "plt.plot(history.history[\"val_accuracy\"], label = \"val_acc\")\n",
    "\n",
    "plt.xlabel(\"epoch\")\n",
    "plt.legend()\n",
    "\n",
    "plt.show()"
   ]
  },
  {
   "cell_type": "markdown",
   "id": "acdc3672",
   "metadata": {},
   "source": [
    "# 모델 성능 검증"
   ]
  },
  {
   "cell_type": "code",
   "execution_count": 25,
   "id": "cb803ae0",
   "metadata": {},
   "outputs": [],
   "source": [
    "scaled_test = x_test.reshape(-1, 28, 28, 1) / 255"
   ]
  },
  {
   "cell_type": "code",
   "execution_count": 26,
   "id": "043c8bbd",
   "metadata": {},
   "outputs": [
    {
     "name": "stdout",
     "output_type": "stream",
     "text": [
      "313/313 [==============================] - 2s 7ms/step - loss: 0.2444 - accuracy: 0.9162\n"
     ]
    },
    {
     "data": {
      "text/plain": [
       "[0.24443742632865906, 0.9161999821662903]"
      ]
     },
     "execution_count": 26,
     "metadata": {},
     "output_type": "execute_result"
    }
   ],
   "source": [
    "model.evaluate(scaled_test, y_test)"
   ]
  },
  {
   "cell_type": "code",
   "execution_count": 30,
   "id": "a4d72aac",
   "metadata": {},
   "outputs": [
    {
     "data": {
      "image/png": "[encoded data removed]",
      "text/plain": [
       "<Figure size 640x480 with 1 Axes>"
      ]
     },
     "metadata": {},
     "output_type": "display_data"
    }
   ],
   "source": [
    "# 데이터 시각화\n",
    "plt.imshow(scaled_test[0].reshape(28, 28), cmap = \"gray_r\")\n",
    "plt.show()"
   ]
  },
  {
   "cell_type": "code",
   "execution_count": 33,
   "id": "ec8dc397",
   "metadata": {},
   "outputs": [
    {
     "name": "stdout",
     "output_type": "stream",
     "text": [
      "1/1 [==============================] - 0s 30ms/step\n",
      "[[7.4509067e-08 4.8068682e-09 2.0847997e-09 1.4240438e-09 3.2578416e-09\n",
      "  1.0652707e-05 9.1887822e-09 6.0750954e-05 2.2999478e-08 9.9992847e-01]]\n"
     ]
    }
   ],
   "source": [
    "# predict 메서드는 입력 데이터가 배치차원이 있을 것으로 가정하기 때문에\n",
    "# 배치차원이 1인 형태로 변형하여 전달\n",
    "preds = model.predict(scaled_test[[0]])\n",
    "print(preds)"
   ]
  },
  {
   "cell_type": "code",
   "execution_count": 34,
   "id": "0d10e645",
   "metadata": {},
   "outputs": [
    {
     "data": {
      "text/plain": [
       "(28, 28, 1)"
      ]
     },
     "execution_count": 34,
     "metadata": {},
     "output_type": "execute_result"
    }
   ],
   "source": [
    "scaled_test[0].shape"
   ]
  },
  {
   "cell_type": "code",
   "execution_count": 35,
   "id": "e67f3440",
   "metadata": {},
   "outputs": [
    {
     "data": {
      "text/plain": [
       "(1, 28, 28, 1)"
      ]
     },
     "execution_count": 35,
     "metadata": {},
     "output_type": "execute_result"
    }
   ],
   "source": [
    "scaled_test[[0]].shape"
   ]
  },
  {
   "cell_type": "code",
   "execution_count": 36,
   "id": "1af3f8e6",
   "metadata": {},
   "outputs": [
    {
     "data": {
      "image/png": "[encoded data removed]",
      "text/plain": [
       "<Figure size 640x480 with 1 Axes>"
      ]
     },
     "metadata": {},
     "output_type": "display_data"
    }
   ],
   "source": [
    "plt.figure()\n",
    "\n",
    "plt.bar(range(1, 11), preds[0])\n",
    "\n",
    "plt.xlabel(\"class\")\n",
    "plt.ylabel(\"prob.\")\n",
    "\n",
    "plt.show()"
   ]
  },
  {
   "cell_type": "code",
   "execution_count": 37,
   "id": "5ab763f1",
   "metadata": {},
   "outputs": [],
   "source": [
    "# 레이블 리스트\n",
    "classes = [\"티셔츠\", \"바지\", \"스웨터\", \"드레스\", \"코트\", \"샌달\", \"셔츠\", \"스니커즈\", \"가방\",\n",
    "           \"앵클 부츠\"]"
   ]
  },
  {
   "cell_type": "code",
   "execution_count": 38,
   "id": "85e7a127",
   "metadata": {},
   "outputs": [
    {
     "name": "stdout",
     "output_type": "stream",
     "text": [
      "앵클 부츠\n"
     ]
    }
   ],
   "source": [
    "print(classes[np.argmax(preds)])"
   ]
  },
  {
   "cell_type": "code",
   "execution_count": 39,
   "id": "e7a0494f",
   "metadata": {},
   "outputs": [
    {
     "name": "stdout",
     "output_type": "stream",
     "text": [
      "앵클 부츠\n"
     ]
    }
   ],
   "source": [
    "print(classes[y_test[0]])"
   ]
  },
  {
   "cell_type": "code",
   "execution_count": null,
   "id": "8e9cdd42",
   "metadata": {},
   "outputs": [],
   "source": []
  }
 ],
 "metadata": {
  "kernelspec": {
   "display_name": "Python 3 (ipykernel)",
   "language": "python",
   "name": "python3"
  },
  "language_info": {
   "codemirror_mode": {
    "name": "ipython",
    "version": 3
   },
   "file_extension": ".py",
   "mimetype": "text/x-python",
   "name": "python",
   "nbconvert_exporter": "python",
   "pygments_lexer": "ipython3",
   "version": "3.10.9"
  }
 },
 "nbformat": 4,
 "nbformat_minor": 5
}
