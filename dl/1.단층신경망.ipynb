{
 "cells": [
  {
   "cell_type": "code",
   "execution_count": 3,
   "id": "a217d684",
   "metadata": {},
   "outputs": [],
   "source": [
    "from tensorflow import keras\n",
    "import matplotlib.pyplot as plt\n",
    "import numpy as np\n",
    "from sklearn.model_selection import cross_validate, train_test_split\n",
    "from sklearn.linear_model import SGDClassifier"
   ]
  },
  {
   "cell_type": "markdown",
   "id": "274c162b",
   "metadata": {},
   "source": [
    "# 데이터 확인"
   ]
  },
  {
   "cell_type": "code",
   "execution_count": 4,
   "id": "c4dcc94c",
   "metadata": {},
   "outputs": [],
   "source": [
    "# 패션 MNIST 데이터 로드\n",
    "(x_train, y_train), (x_test, y_test) = keras.datasets.fashion_mnist.load_data()"
   ]
  },
  {
   "cell_type": "code",
   "execution_count": 5,
   "id": "4e6663ef",
   "metadata": {},
   "outputs": [
    {
     "name": "stdout",
     "output_type": "stream",
     "text": [
      "(60000, 28, 28) (60000,)\n"
     ]
    }
   ],
   "source": [
    "# load된 훈련데이터 확인\n",
    "print(x_train.shape, y_train.shape)"
   ]
  },
  {
   "cell_type": "markdown",
   "id": "e2983186",
   "metadata": {},
   "source": [
    "- 훈련 데이터는 60000개의 이미지로 이루어져 있음\n",
    "- 각 이미지의 크기는 28 * 28\n",
    "- 타깃은 60000개의 원소가 있는 1차원 배열"
   ]
  },
  {
   "cell_type": "code",
   "execution_count": 8,
   "id": "cdeca620",
   "metadata": {},
   "outputs": [
    {
     "name": "stdout",
     "output_type": "stream",
     "text": [
      "(10000, 28, 28) (10000,)\n"
     ]
    }
   ],
   "source": [
    "# 테스트 데이터 확인\n",
    "print(x_test.shape, y_test.shape)"
   ]
  },
  {
   "cell_type": "code",
   "execution_count": 9,
   "id": "df58660e",
   "metadata": {
    "scrolled": true
   },
   "outputs": [
    {
     "data": {
      "text/plain": [
       "array([  0,   1,   2,   3,   4,   5,   6,   7,   8,   9,  10,  11,  12,\n",
       "        13,  14,  15,  16,  17,  18,  19,  20,  21,  22,  23,  24,  25,\n",
       "        26,  27,  28,  29,  30,  31,  32,  33,  34,  35,  36,  37,  38,\n",
       "        39,  40,  41,  42,  43,  44,  45,  46,  47,  48,  49,  50,  51,\n",
       "        52,  53,  54,  55,  56,  57,  58,  59,  60,  61,  62,  63,  64,\n",
       "        65,  66,  67,  68,  69,  70,  71,  72,  73,  74,  75,  76,  77,\n",
       "        78,  79,  80,  81,  82,  83,  84,  85,  86,  87,  88,  89,  90,\n",
       "        91,  92,  93,  94,  95,  96,  97,  98,  99, 100, 101, 102, 103,\n",
       "       104, 105, 106, 107, 108, 109, 110, 111, 112, 113, 114, 115, 116,\n",
       "       117, 118, 119, 120, 121, 122, 123, 124, 125, 126, 127, 128, 129,\n",
       "       130, 131, 132, 133, 134, 135, 136, 137, 138, 139, 140, 141, 142,\n",
       "       143, 144, 145, 146, 147, 148, 149, 150, 151, 152, 153, 154, 155,\n",
       "       156, 157, 158, 159, 160, 161, 162, 163, 164, 165, 166, 167, 168,\n",
       "       169, 170, 171, 172, 173, 174, 175, 176, 177, 178, 179, 180, 181,\n",
       "       182, 183, 184, 185, 186, 187, 188, 189, 190, 191, 192, 193, 194,\n",
       "       195, 196, 197, 198, 199, 200, 201, 202, 203, 204, 205, 206, 207,\n",
       "       208, 209, 210, 211, 212, 213, 214, 215, 216, 217, 218, 219, 220,\n",
       "       221, 222, 223, 224, 225, 226, 227, 228, 229, 230, 231, 232, 233,\n",
       "       234, 235, 236, 237, 238, 239, 240, 241, 242, 243, 244, 245, 246,\n",
       "       247, 248, 249, 250, 251, 252, 253, 254, 255], dtype=uint8)"
      ]
     },
     "execution_count": 9,
     "metadata": {},
     "output_type": "execute_result"
    }
   ],
   "source": [
    "np.unique(x_test)"
   ]
  },
  {
   "cell_type": "code",
   "execution_count": 10,
   "id": "76feb0e8",
   "metadata": {},
   "outputs": [
    {
     "data": {
      "image/png": "[encoded data removed]",
      "text/plain": [
       "<Figure size 1500x1500 with 10 Axes>"
      ]
     },
     "metadata": {},
     "output_type": "display_data"
    }
   ],
   "source": [
    "# 샘플 이미지 확인\n",
    "fig, axs = plt.subplots(1, 10, figsize = (15, 15))\n",
    "\n",
    "for i in range(10):\n",
    "    axs[i].imshow(x_train[i], cmap = \"gray_r\")\n",
    "    axs[i].axis(\"off\")\n",
    "    \n",
    "plt.show()"
   ]
  },
  {
   "cell_type": "code",
   "execution_count": 11,
   "id": "7225c0b8",
   "metadata": {},
   "outputs": [
    {
     "name": "stdout",
     "output_type": "stream",
     "text": [
      "[9, 0, 0, 3, 0, 2, 7, 2, 5, 5]\n"
     ]
    }
   ],
   "source": [
    "# 종속변수 확인\n",
    "print([y_train[i] for i in range(10)])"
   ]
  },
  {
   "cell_type": "markdown",
   "id": "ebcd9279",
   "metadata": {},
   "source": [
    "- 패션 MNIST 레이블의 의미\n",
    "    - 0 : 티셔츠\n",
    "    - 1 : 바지\n",
    "    - 2 : 스웨터\n",
    "    - 3 : 드레스\n",
    "    - 4 : 코트\n",
    "    - 5 : 샌달\n",
    "    - 6 : 셔츠\n",
    "    - 7 : 스니커즈\n",
    "    - 8 : 가방\n",
    "    - 9 : 앵클 부츠"
   ]
  },
  {
   "cell_type": "code",
   "execution_count": 12,
   "id": "7ff792d6",
   "metadata": {},
   "outputs": [
    {
     "name": "stdout",
     "output_type": "stream",
     "text": [
      "(array([0, 1, 2, 3, 4, 5, 6, 7, 8, 9], dtype=uint8), array([6000, 6000, 6000, 6000, 6000, 6000, 6000, 6000, 6000, 6000],\n",
      "      dtype=int64))\n"
     ]
    }
   ],
   "source": [
    "# 각 레이블 당 샘플 개수 확인\n",
    "print(np.unique(y_train, return_counts = True))"
   ]
  },
  {
   "cell_type": "markdown",
   "id": "9da6312a",
   "metadata": {},
   "source": [
    "- 0 ~ 9까지 레이블마다 정확히 6000개의 샘플이 들어 있음"
   ]
  },
  {
   "cell_type": "markdown",
   "id": "fe3fcb28",
   "metadata": {},
   "source": [
    "# 로지스틱회귀로 패션 아이템 분류"
   ]
  },
  {
   "cell_type": "code",
   "execution_count": 14,
   "id": "45303389",
   "metadata": {},
   "outputs": [],
   "source": [
    "# SGDClassifier 는 2차원 입력을 다루지 못하기 때문에 데이터를 1차원 배열로 변환\n",
    "scaled_train = x_train / 255 # 각 픽셀은 0 ~ 255 사이의 정숫값을 가짐\n",
    "scaled_train = scaled_train.reshape(-1, 28 * 28)"
   ]
  },
  {
   "cell_type": "code",
   "execution_count": 15,
   "id": "e17fec93",
   "metadata": {},
   "outputs": [
    {
     "name": "stdout",
     "output_type": "stream",
     "text": [
      "(60000, 784)\n"
     ]
    }
   ],
   "source": [
    "print(scaled_train.shape)"
   ]
  },
  {
   "cell_type": "code",
   "execution_count": 17,
   "id": "45ce3767",
   "metadata": {},
   "outputs": [
    {
     "name": "stdout",
     "output_type": "stream",
     "text": [
      "0.8172166666666667\n"
     ]
    }
   ],
   "source": [
    "sgd = SGDClassifier(loss = \"log_loss\", max_iter = 5, random_state = 5)\n",
    "scores = cross_validate(sgd, scaled_train, y_train, n_jobs = -1)\n",
    "print(np.mean(scores[\"test_score\"]))"
   ]
  },
  {
   "cell_type": "markdown",
   "id": "21425275",
   "metadata": {},
   "source": [
    "# 인공신경망"
   ]
  },
  {
   "cell_type": "markdown",
   "id": "7177cc8e",
   "metadata": {},
   "source": [
    "- 로지스틱 회귀식\n",
    "    - z_티셔츠 = w1 x 픽셀1 + w2 x 픽셀2 + ...... + w784 x 픽셀784 + b\n",
    "    - z_바지 = w1' x 픽셀1 + w2' x 픽셀2 + ...... + w784' x 픽셀784 + b'"
   ]
  },
  {
   "cell_type": "markdown",
   "id": "23204c53",
   "metadata": {},
   "source": [
    "- 로지스틱 회귀\n",
    "\n",
    "<img src = \"./image/logistic_ann.png\">"
   ]
  },
  {
   "cell_type": "markdown",
   "id": "de54da33",
   "metadata": {},
   "source": [
    "- 인공신경망\n",
    "\n",
    "<img src = \"./image/neuron-node.png\">"
   ]
  },
  {
   "cell_type": "markdown",
   "id": "5c45231c",
   "metadata": {},
   "source": [
    "- 활성화함수 자리에 로지스틱 회귀의 softmax가 들어가므로 z1 ~ z10까지 10개의 레이블에 대한 확률값을 계산\n",
    "    - 이 z1 ~ z10 까지의 뉴런을 바탕으로 클래스를 예측하기 때문에 신경망의 최종값을 만든다는 의미에서 출력층(output layer)이라고 부름\n",
    "    \n",
    "- 인공신경망에서는 z값을 계산하는 단위를 뉴런(neuron)이라고 불렀음\n",
    "    - 현재는 뉴런 대신에 유닛(unit)이라는 표현을 사용\n",
    "    \n",
    "- x1 ~ x784 까지를 입력층(input layer)라고 부름\n",
    "    - 입력층은 픽셀값 자체이고 특별한 계산을 수행하지는 않음\n",
    "    \n",
    "- 인공신경망은 1943년 워런 매컬러(Warren McCulloch)와 월터 피츠(Walter Pitts)가 제안한 뉴런 모델로부터 시작됨\n",
    "    - 이를 매컬러-피츠 뉴런 이라고 부름\n",
    "    - 인공 뉴런은 생물학적 뉴런에서 영감을 얻어 만들어짐"
   ]
  },
  {
   "cell_type": "code",
   "execution_count": 18,
   "id": "b361cdcd",
   "metadata": {},
   "outputs": [],
   "source": [
    "# 위에서 만든 데이터를 그대로 활용하여 검증세트 나누기\n",
    "scaled_train, scaled_val, y_train, y_val = train_test_split(scaled_train, y_train,\n",
    "                                                            test_size = 0.2,\n",
    "                                                            random_state = 5)"
   ]
  },
  {
   "cell_type": "code",
   "execution_count": 19,
   "id": "130b2ab6",
   "metadata": {},
   "outputs": [
    {
     "name": "stdout",
     "output_type": "stream",
     "text": [
      "(48000, 784) (48000,)\n"
     ]
    }
   ],
   "source": [
    "print(scaled_train.shape, y_train.shape)"
   ]
  },
  {
   "cell_type": "code",
   "execution_count": 20,
   "id": "71a2cdcb",
   "metadata": {},
   "outputs": [
    {
     "name": "stdout",
     "output_type": "stream",
     "text": [
      "(12000, 784) (12000,)\n"
     ]
    }
   ],
   "source": [
    "print(scaled_val.shape, y_val.shape)"
   ]
  },
  {
   "cell_type": "markdown",
   "id": "b36c2624",
   "metadata": {},
   "source": [
    "## 밀집층(dense layer)\n",
    "\n",
    "- 784개의 픽셀과 10개의 출력층 뉴런이 모두 연결되는 층\n",
    "- 양쪽의 뉴런이 모두 연결하고 있기 때문에 완전 연결층(fully connected layer, 전결합층)이라고도 부름"
   ]
  },
  {
   "cell_type": "code",
   "execution_count": 21,
   "id": "ce53c157",
   "metadata": {},
   "outputs": [],
   "source": [
    "# Dense 클래스의 매개변수 = 유닛 개수, 출력에 적용할 활성화 함수, 입력의 크기\n",
    "dense = keras.layers.Dense(10, activation = \"softmax\", input_shape = (784,))"
   ]
  },
  {
   "cell_type": "markdown",
   "id": "8f998288",
   "metadata": {},
   "source": [
    "- 뉴런 개수 = 10\n",
    "    - 10개의 레이블이 존재하기 때문\n",
    "    \n",
    "- 활성화함수 = softmax\n",
    "    - 10개의 유닛에서 출력되는 값을 확률값으로 바꾸기 위해서 softmax 사용\n",
    "    - 만약에 이진분류 문제라면 활성화함수를 시그모이드 함수로 설정하는 것도 가능\n",
    "        - activation = \"sigmoid\"\n",
    "        \n",
    "- 입력 크기 = (784,)\n",
    "    - 10개의 뉴런이 각각 몇 개의 입력을 받는지 튜플로 지정\n",
    "    - 현재 예제에서는 784개의 픽셀값 1차원으로 받기 때문에 (784,)를 입력"
   ]
  },
  {
   "cell_type": "code",
   "execution_count": 22,
   "id": "36b3bb0b",
   "metadata": {},
   "outputs": [],
   "source": [
    "# 신경망 모델을 생성\n",
    "model = keras.Sequential()"
   ]
  },
  {
   "cell_type": "code",
   "execution_count": 23,
   "id": "bf4deaea",
   "metadata": {},
   "outputs": [],
   "source": [
    "# 신경망 모델에 밀집층을 추가\n",
    "model.add(dense)"
   ]
  },
  {
   "cell_type": "code",
   "execution_count": 24,
   "id": "a4dccfac",
   "metadata": {},
   "outputs": [
    {
     "name": "stdout",
     "output_type": "stream",
     "text": [
      "Model: \"sequential\"\n",
      "_________________________________________________________________\n",
      " Layer (type)                Output Shape              Param #   \n",
      "=================================================================\n",
      " dense (Dense)               (None, 10)                7850      \n",
      "                                                                 \n",
      "=================================================================\n",
      "Total params: 7850 (30.66 KB)\n",
      "Trainable params: 7850 (30.66 KB)\n",
      "Non-trainable params: 0 (0.00 Byte)\n",
      "_________________________________________________________________\n"
     ]
    }
   ],
   "source": [
    "# 모델 구조 확인\n",
    "model.summary()"
   ]
  },
  {
   "cell_type": "code",
   "execution_count": 25,
   "id": "b7277137",
   "metadata": {},
   "outputs": [],
   "source": [
    "# 모델을 학습시키기위한 학습과정을 설정\n",
    "model.compile(loss = \"sparse_categorical_crossentropy\", metrics = \"accuracy\")"
   ]
  },
  {
   "cell_type": "code",
   "execution_count": 26,
   "id": "a1cbef0a",
   "metadata": {},
   "outputs": [
    {
     "data": {
      "text/plain": [
       "array([3, 0, 2, 3, 1], dtype=uint8)"
      ]
     },
     "execution_count": 26,
     "metadata": {},
     "output_type": "execute_result"
    }
   ],
   "source": [
    "y_train[:5]"
   ]
  },
  {
   "cell_type": "markdown",
   "id": "068b26d5",
   "metadata": {},
   "source": [
    "- loss = \"sparse_categorical_crossentropy\"\n",
    "    - sparse_categorical_crossentropy : 다중 분류에서 사용하는 손실 함수\n",
    "        - 정답의 확률값을 1에 가깝게, 오답의 확률값을 0에 가깝게 만들도록 하는 손실 함수\n",
    "    - 이진분류에서는 binary_crossentropy를 사용\n",
    "    \n",
    "- metrics = \"accuracy\"\n",
    "    - 케라스는 모델이 훈련할 때 기본으로 매 에포크마다 손실값을 출력해줌\n",
    "    - 손실값 외에도 정확도를 함께 출력해주기 위해서 정확도를 나타낼 지표 accuracy를 지정"
   ]
  },
  {
   "cell_type": "code",
   "execution_count": 27,
   "id": "b9606433",
   "metadata": {},
   "outputs": [
    {
     "name": "stdout",
     "output_type": "stream",
     "text": [
      "Epoch 1/5\n",
      "1500/1500 [==============================] - 4s 2ms/step - loss: 0.6078 - accuracy: 0.7921\n",
      "Epoch 2/5\n",
      "1500/1500 [==============================] - 3s 2ms/step - loss: 0.4735 - accuracy: 0.8405\n",
      "Epoch 3/5\n",
      "1500/1500 [==============================] - 3s 2ms/step - loss: 0.4505 - accuracy: 0.8478\n",
      "Epoch 4/5\n",
      "1500/1500 [==============================] - 3s 2ms/step - loss: 0.4364 - accuracy: 0.8518\n",
      "Epoch 5/5\n",
      "1500/1500 [==============================] - 3s 2ms/step - loss: 0.4294 - accuracy: 0.8549\n"
     ]
    },
    {
     "data": {
      "text/plain": [
       "<keras.src.callbacks.History at 0x1bd397b0d00>"
      ]
     },
     "execution_count": 27,
     "metadata": {},
     "output_type": "execute_result"
    }
   ],
   "source": [
    "# 모델 훈련\n",
    "model.fit(scaled_train, y_train, epochs = 5)"
   ]
  },
  {
   "cell_type": "code",
   "execution_count": 29,
   "id": "bcd5a798",
   "metadata": {},
   "outputs": [
    {
     "name": "stdout",
     "output_type": "stream",
     "text": [
      "375/375 [==============================] - 1s 2ms/step - loss: 0.4483 - accuracy: 0.8468\n"
     ]
    },
    {
     "data": {
      "text/plain": [
       "[0.4482988715171814, 0.846833348274231]"
      ]
     },
     "execution_count": 29,
     "metadata": {},
     "output_type": "execute_result"
    }
   ],
   "source": [
    "# 검증데이터로 성능 평가\n",
    "model.evaluate(scaled_val, y_val)"
   ]
  },
  {
   "cell_type": "code",
   "execution_count": null,
   "id": "00e23f9a",
   "metadata": {},
   "outputs": [],
   "source": []
  }
 ],
 "metadata": {
  "kernelspec": {
   "display_name": "Python 3 (ipykernel)",
   "language": "python",
   "name": "python3"
  },
  "language_info": {
   "codemirror_mode": {
    "name": "ipython",
    "version": 3
   },
   "file_extension": ".py",
   "mimetype": "text/x-python",
   "name": "python",
   "nbconvert_exporter": "python",
   "pygments_lexer": "ipython3",
   "version": "3.10.9"
  }
 },
 "nbformat": 4,
 "nbformat_minor": 5
}
