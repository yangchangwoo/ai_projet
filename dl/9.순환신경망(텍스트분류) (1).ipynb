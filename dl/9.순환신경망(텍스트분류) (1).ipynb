{
 "cells": [
  {
   "cell_type": "code",
   "execution_count": 58,
   "id": "9cc9efa7",
   "metadata": {},
   "outputs": [],
   "source": [
    "import os\n",
    "os.environ[\"CUDA_VISIBLE_DEVICES\"] = \"-1\""
   ]
  },
  {
   "cell_type": "markdown",
   "id": "026b31e8",
   "metadata": {},
   "source": [
    "# IMDB 리뷰 데이터셋\n",
    "\n",
    "- 유명한 인터넷 영화 데이터베이스인 imdb.com에서 수집한 리뷰를 감상평에 따라 긍정과 부정으로 분류해 놓은 말뭉치"
   ]
  },
  {
   "cell_type": "markdown",
   "id": "ef56fff7",
   "metadata": {},
   "source": [
    "## 자연어 처리(natural language processing, NLP)\n",
    "\n",
    "- 컴퓨터를 사용해 인간의 언어를 처리하는 분야\n",
    "- 세부 분야\n",
    "    - 음성 인식\n",
    "    - 기계 번역\n",
    "    - 감성 분석\n",
    "- 자연어 처리 분야에서는 훈련 데이터를 말뭉치(corpus)라고 부름"
   ]
  },
  {
   "cell_type": "markdown",
   "id": "f3dd54ec",
   "metadata": {},
   "source": [
    "## 임베딩\n",
    "\n",
    "- 사람이 쓰는 자연어를 기계가 이해할 수 있는 숫자의 나열인 벡터로 바꾼 결과 혹은 그 과정 전체\n",
    "\n",
    "- 컴퓨터에서 처리하는 모든 것은 숫자로 이루어진 데이터\n",
    "    - 따라서 텍스트 그 자체를 신경망에 전달하지 않음\n",
    "    - 합성곱 신경망에서 이미지를 다룰 때는 이미지가 정수 픽셀값으로 이루어져 있어서 특별히 변환을 하지 않음\n",
    "    \n",
    "- 텍스트 임베딩의 가장 쉬운 방법은 데이터에 등장하는 단어마다 고유한 정수를 부여하는 것\n",
    "    - 예)\n",
    "        - he : 10\n",
    "        - follows : 11\n",
    "        - the : 12\n",
    "        - cat : 13\n",
    "        \n",
    "    - 단어에 매핑되는 정수는 단어의 의미나 크기와 관련이 없음\n",
    "        - he를 10으로 매핑하고 cat을 13에 매핑하더라도 cat이 he보다 좋거나 크다는 뜻이 아님\n",
    "    - 정수 중 몇 가지는 특정한 용도로 예약되어 있는 경우가 많음\n",
    "        - 예) 0 : 패딩, 1 : 문장의 시작, 2 : 어휘 사전에 없는 토큰\n",
    "            - 어휘 사전 : 훈련 세트에서 고유한 단어를 뽑아 만든 목록\n",
    "            \n",
    "- 일반적으로 영어 문장은 모두 소문자로 바꾸고 구둣점을 삭제한 다음 공백을 기준으로 분리\n",
    "    - 이렇게 분리된 단어를 토큰(token)이라고 부름\n",
    "        - 하나의 샘플은 여러 개의 토큰으로 이루어져 있고 이 때 하나의 토큰이 하나의 타임스텝에 해당\n",
    "    - 영어 말뭉치에서 토큰은 단어와 같이 취급하는 경우가 많음\n",
    "        - 한국어는 조사가 발달되어 있어 공백으로 나누는 것만으로는 부족함\n",
    "            - 일반적으로 한글은 형태소 분석을 통해 토큰을 분리"
   ]
  },
  {
   "cell_type": "markdown",
   "id": "e56d01e8",
   "metadata": {},
   "source": [
    "# 원핫 인코딩을 활용한 RNN 텍스트 분류"
   ]
  },
  {
   "cell_type": "markdown",
   "id": "23d36673",
   "metadata": {},
   "source": [
    "## 데이터 준비"
   ]
  },
  {
   "cell_type": "code",
   "execution_count": 59,
   "id": "c113c390",
   "metadata": {},
   "outputs": [],
   "source": [
    "from tensorflow.keras.datasets import imdb\n",
    "from tensorflow.keras.preprocessing.sequence import pad_sequences\n",
    "from tensorflow import keras\n",
    "from sklearn.model_selection import train_test_split\n",
    "import numpy as np\n",
    "import matplotlib.pyplot as plt"
   ]
  },
  {
   "cell_type": "code",
   "execution_count": 60,
   "id": "8fc2d5cd",
   "metadata": {},
   "outputs": [],
   "source": [
    "# num_words : 단어 빈도가 많은 순서로 num_words만큼 보존한다\n",
    "# 전체 데이터셋에서 가장 자주 등장하는 단어 500개만 사용\n",
    "(x_train, y_train), (x_test, y_test) = imdb.load_data(num_words = 500)"
   ]
  },
  {
   "cell_type": "code",
   "execution_count": 61,
   "id": "59593f44",
   "metadata": {},
   "outputs": [
    {
     "name": "stdout",
     "output_type": "stream",
     "text": [
      "(25000,) (25000,)\n"
     ]
    }
   ],
   "source": [
    "# 훈련세트, 테스트 세트의 크기 확인\n",
    "print(x_train.shape, x_test.shape)"
   ]
  },
  {
   "cell_type": "code",
   "execution_count": 62,
   "id": "1fb01674",
   "metadata": {},
   "outputs": [
    {
     "data": {
      "text/plain": [
       "(218, 189)"
      ]
     },
     "execution_count": 62,
     "metadata": {},
     "output_type": "execute_result"
    }
   ],
   "source": [
    "# 리뷰의 길이 출력\n",
    "len(x_train[0]), len(x_train[1])"
   ]
  },
  {
   "cell_type": "code",
   "execution_count": 63,
   "id": "6c901f28",
   "metadata": {},
   "outputs": [
    {
     "data": {
      "text/plain": [
       "list"
      ]
     },
     "execution_count": 63,
     "metadata": {},
     "output_type": "execute_result"
    }
   ],
   "source": [
    "type(x_train[0])"
   ]
  },
  {
   "cell_type": "code",
   "execution_count": 64,
   "id": "90458bc7",
   "metadata": {},
   "outputs": [
    {
     "data": {
      "text/plain": [
       "[1,\n",
       " 14,\n",
       " 22,\n",
       " 16,\n",
       " 43,\n",
       " 2,\n",
       " 2,\n",
       " 2,\n",
       " 2,\n",
       " 65,\n",
       " 458,\n",
       " 2,\n",
       " 66,\n",
       " 2,\n",
       " 4,\n",
       " 173,\n",
       " 36,\n",
       " 256,\n",
       " 5,\n",
       " 25,\n",
       " 100,\n",
       " 43,\n",
       " 2,\n",
       " 112,\n",
       " 50,\n",
       " 2,\n",
       " 2,\n",
       " 9,\n",
       " 35,\n",
       " 480,\n",
       " 284,\n",
       " 5,\n",
       " 150,\n",
       " 4,\n",
       " 172,\n",
       " 112,\n",
       " 167,\n",
       " 2,\n",
       " 336,\n",
       " 385,\n",
       " 39,\n",
       " 4,\n",
       " 172,\n",
       " 2,\n",
       " 2,\n",
       " 17,\n",
       " 2,\n",
       " 38,\n",
       " 13,\n",
       " 447,\n",
       " 4,\n",
       " 192,\n",
       " 50,\n",
       " 16,\n",
       " 6,\n",
       " 147,\n",
       " 2,\n",
       " 19,\n",
       " 14,\n",
       " 22,\n",
       " 4,\n",
       " 2,\n",
       " 2,\n",
       " 469,\n",
       " 4,\n",
       " 22,\n",
       " 71,\n",
       " 87,\n",
       " 12,\n",
       " 16,\n",
       " 43,\n",
       " 2,\n",
       " 38,\n",
       " 76,\n",
       " 15,\n",
       " 13,\n",
       " 2,\n",
       " 4,\n",
       " 22,\n",
       " 17,\n",
       " 2,\n",
       " 17,\n",
       " 12,\n",
       " 16,\n",
       " 2,\n",
       " 18,\n",
       " 2,\n",
       " 5,\n",
       " 62,\n",
       " 386,\n",
       " 12,\n",
       " 8,\n",
       " 316,\n",
       " 8,\n",
       " 106,\n",
       " 5,\n",
       " 4,\n",
       " 2,\n",
       " 2,\n",
       " 16,\n",
       " 480,\n",
       " 66,\n",
       " 2,\n",
       " 33,\n",
       " 4,\n",
       " 130,\n",
       " 12,\n",
       " 16,\n",
       " 38,\n",
       " 2,\n",
       " 5,\n",
       " 25,\n",
       " 124,\n",
       " 51,\n",
       " 36,\n",
       " 135,\n",
       " 48,\n",
       " 25,\n",
       " 2,\n",
       " 33,\n",
       " 6,\n",
       " 22,\n",
       " 12,\n",
       " 215,\n",
       " 28,\n",
       " 77,\n",
       " 52,\n",
       " 5,\n",
       " 14,\n",
       " 407,\n",
       " 16,\n",
       " 82,\n",
       " 2,\n",
       " 8,\n",
       " 4,\n",
       " 107,\n",
       " 117,\n",
       " 2,\n",
       " 15,\n",
       " 256,\n",
       " 4,\n",
       " 2,\n",
       " 7,\n",
       " 2,\n",
       " 5,\n",
       " 2,\n",
       " 36,\n",
       " 71,\n",
       " 43,\n",
       " 2,\n",
       " 476,\n",
       " 26,\n",
       " 400,\n",
       " 317,\n",
       " 46,\n",
       " 7,\n",
       " 4,\n",
       " 2,\n",
       " 2,\n",
       " 13,\n",
       " 104,\n",
       " 88,\n",
       " 4,\n",
       " 381,\n",
       " 15,\n",
       " 297,\n",
       " 98,\n",
       " 32,\n",
       " 2,\n",
       " 56,\n",
       " 26,\n",
       " 141,\n",
       " 6,\n",
       " 194,\n",
       " 2,\n",
       " 18,\n",
       " 4,\n",
       " 226,\n",
       " 22,\n",
       " 21,\n",
       " 134,\n",
       " 476,\n",
       " 26,\n",
       " 480,\n",
       " 5,\n",
       " 144,\n",
       " 30,\n",
       " 2,\n",
       " 18,\n",
       " 51,\n",
       " 36,\n",
       " 28,\n",
       " 224,\n",
       " 92,\n",
       " 25,\n",
       " 104,\n",
       " 4,\n",
       " 226,\n",
       " 65,\n",
       " 16,\n",
       " 38,\n",
       " 2,\n",
       " 88,\n",
       " 12,\n",
       " 16,\n",
       " 283,\n",
       " 5,\n",
       " 16,\n",
       " 2,\n",
       " 113,\n",
       " 103,\n",
       " 32,\n",
       " 15,\n",
       " 16,\n",
       " 2,\n",
       " 19,\n",
       " 178,\n",
       " 32]"
      ]
     },
     "execution_count": 64,
     "metadata": {},
     "output_type": "execute_result"
    }
   ],
   "source": [
    "x_train[0]"
   ]
  },
  {
   "cell_type": "markdown",
   "id": "3da3a9bd",
   "metadata": {},
   "source": [
    "- 각각 25000개의 샘플로 이루어져 있음\n",
    "- 텍스트 길이가 제각각임\n",
    "    - 고정 크기의 2차원 배열에 담는 것 보다 리뷰마다 별도의 파이썬 리스트로 담아야 메모리를 효율적으로 사용할 수 있음"
   ]
  },
  {
   "cell_type": "code",
   "execution_count": 65,
   "id": "21486a0e",
   "metadata": {},
   "outputs": [
    {
     "name": "stdout",
     "output_type": "stream",
     "text": [
      "[1, 14, 22, 16, 43, 2, 2, 2, 2, 65, 458, 2, 66, 2, 4, 173, 36, 256, 5, 25, 100, 43, 2, 112, 50, 2, 2, 9, 35, 480, 284, 5, 150, 4, 172, 112, 167, 2, 336, 385, 39, 4, 172, 2, 2, 17, 2, 38, 13, 447, 4, 192, 50, 16, 6, 147, 2, 19, 14, 22, 4, 2, 2, 469, 4, 22, 71, 87, 12, 16, 43, 2, 38, 76, 15, 13, 2, 4, 22, 17, 2, 17, 12, 16, 2, 18, 2, 5, 62, 386, 12, 8, 316, 8, 106, 5, 4, 2, 2, 16, 480, 66, 2, 33, 4, 130, 12, 16, 38, 2, 5, 25, 124, 51, 36, 135, 48, 25, 2, 33, 6, 22, 12, 215, 28, 77, 52, 5, 14, 407, 16, 82, 2, 8, 4, 107, 117, 2, 15, 256, 4, 2, 7, 2, 5, 2, 36, 71, 43, 2, 476, 26, 400, 317, 46, 7, 4, 2, 2, 13, 104, 88, 4, 381, 15, 297, 98, 32, 2, 56, 26, 141, 6, 194, 2, 18, 4, 226, 22, 21, 134, 476, 26, 480, 5, 144, 30, 2, 18, 51, 36, 28, 224, 92, 25, 104, 4, 226, 65, 16, 38, 2, 88, 12, 16, 283, 5, 16, 2, 113, 103, 32, 15, 16, 2, 19, 178, 32]\n"
     ]
    }
   ],
   "source": [
    "# 첫 번째 리뷰 출력\n",
    "print(x_train[0])"
   ]
  },
  {
   "cell_type": "code",
   "execution_count": 66,
   "id": "1d1f4ad0",
   "metadata": {},
   "outputs": [
    {
     "name": "stdout",
     "output_type": "stream",
     "text": [
      "[1 0 0 1 0 0 1 0 1 0 1 0 0 0 0 0 1 1 0 1]\n"
     ]
    }
   ],
   "source": [
    "# 타깃 데이터 출력\n",
    "# 0 : 부정, 1 : 긍정\n",
    "print(y_train[:20])"
   ]
  },
  {
   "cell_type": "code",
   "execution_count": 67,
   "id": "c6e6248e",
   "metadata": {},
   "outputs": [],
   "source": [
    "# 데이터 분할\n",
    "x_train, x_val, y_train, y_val = train_test_split(x_train, y_train, test_size = 0.2,\n",
    "                                                  stratify = y_train, random_state = 5)"
   ]
  },
  {
   "cell_type": "markdown",
   "id": "7bf1404f",
   "metadata": {},
   "source": [
    "### 각 리뷰의 길이 확인\n",
    "\n",
    "- 각 리뷰의 길이를 넘파이 배열로 담아 평균 리뷰 길이, 길이 최솟값, 길이 최댓값을 확인"
   ]
  },
  {
   "cell_type": "code",
   "execution_count": 68,
   "id": "3e907e03",
   "metadata": {},
   "outputs": [],
   "source": [
    "lengths = np.array([len(x) for x in x_train])"
   ]
  },
  {
   "cell_type": "code",
   "execution_count": 69,
   "id": "04732fb6",
   "metadata": {},
   "outputs": [
    {
     "data": {
      "text/plain": [
       "array([119, 220, 240, ..., 337, 146, 112])"
      ]
     },
     "execution_count": 69,
     "metadata": {},
     "output_type": "execute_result"
    }
   ],
   "source": [
    "lengths"
   ]
  },
  {
   "cell_type": "code",
   "execution_count": 70,
   "id": "a43c4ff2",
   "metadata": {},
   "outputs": [
    {
     "name": "stdout",
     "output_type": "stream",
     "text": [
      "237.7211 178.0 11 2494\n"
     ]
    }
   ],
   "source": [
    "# 길이 평균값과 중간값\n",
    "print(np.mean(lengths), np.median(lengths), np.min(lengths), np.max(lengths))"
   ]
  },
  {
   "cell_type": "code",
   "execution_count": 71,
   "id": "c1a9134b",
   "metadata": {},
   "outputs": [
    {
     "data": {
      "image/png": "[encoded data removed]",
      "text/plain": [
       "<Figure size 640x480 with 1 Axes>"
      ]
     },
     "metadata": {},
     "output_type": "display_data"
    }
   ],
   "source": [
    "plt.figure()\n",
    "\n",
    "plt.hist(lengths)\n",
    "\n",
    "plt.xlabel(\"length\")\n",
    "plt.ylabel(\"frequency\")\n",
    "plt.show()"
   ]
  },
  {
   "cell_type": "markdown",
   "id": "9b8554dd",
   "metadata": {},
   "source": [
    "- 평균이 중간값보다 높은 이유는 아주 큰 데이터가 있기 때문\n",
    "- 대부분의 리뷰는 짧기 때문에 이번 예제에서는 리뷰의 길이를 100에 맞춰서 사용\n",
    "    - 100보다 짧은 리뷰는 길이를 100에 맞추기 위해 패딩이 필요\n",
    "        - 패딩을 나타내는 토큰으로는 0을 사용"
   ]
  },
  {
   "cell_type": "code",
   "execution_count": 72,
   "id": "5ae10dd5",
   "metadata": {},
   "outputs": [],
   "source": [
    "# x_train의 길이를 100으로 맞추기\n",
    "train_seq = pad_sequences(x_train, maxlen = 100)"
   ]
  },
  {
   "cell_type": "markdown",
   "id": "5cb8e68f",
   "metadata": {},
   "source": [
    "- maxlen 에 원하는 길이를 지정하면 그것보다 긴 경우는 잘라내고 짧은 경우는 0으로 패딩"
   ]
  },
  {
   "cell_type": "code",
   "execution_count": 73,
   "id": "2b6183af",
   "metadata": {},
   "outputs": [
    {
     "name": "stdout",
     "output_type": "stream",
     "text": [
      "(20000, 100)\n"
     ]
    }
   ],
   "source": [
    "# train_seq 크기 확인\n",
    "print(train_seq.shape)"
   ]
  },
  {
   "cell_type": "code",
   "execution_count": 74,
   "id": "ded319ff",
   "metadata": {},
   "outputs": [
    {
     "name": "stdout",
     "output_type": "stream",
     "text": [
      "[ 12  16   2  34   2   2   2 157  13   2   2   4   2  69 427  57   2  24\n",
      "  18   6 333 100  13 264  15  50  16 233   2  74   2 200  98   4  65  43\n",
      " 161   2 283   2   8  15   2   2   2   7   2   5  35   2   2 114  15   2\n",
      "   2   2   5   2 188   2   6 147   2   2   2   2 139 238  30   2  18 148\n",
      "   2  49   2   2  21   2  14   9   6   2 437   7  58  61   2  17  13 296\n",
      "   4  20  16  15   2  28  77 128   2   2]\n"
     ]
    }
   ],
   "source": [
    "print(train_seq[0])"
   ]
  },
  {
   "cell_type": "code",
   "execution_count": 75,
   "id": "ae76a996",
   "metadata": {},
   "outputs": [
    {
     "name": "stdout",
     "output_type": "stream",
     "text": [
      "[12, 16, 2, 34, 2, 2, 2, 157, 13, 2, 2, 4, 2, 69, 427, 57, 2, 24, 18, 6, 333, 100, 13, 264, 15, 50, 16, 233, 2, 74, 2, 200, 98, 4, 65, 43, 161, 2, 283, 2, 8, 15, 2, 2, 2, 7, 2, 5, 35, 2, 2, 114, 15, 2, 2, 2, 5, 2, 188, 2, 6, 147, 2, 2, 2, 2, 139, 238, 30, 2, 18, 148, 2, 49, 2, 2, 21, 2, 14, 9, 6, 2, 437, 7, 58, 61, 2, 17, 13, 296, 4, 20, 16, 15, 2, 28, 77, 128, 2, 2]\n"
     ]
    }
   ],
   "source": [
    "print(x_train[0][-100:])"
   ]
  },
  {
   "cell_type": "markdown",
   "id": "3b636fe8",
   "metadata": {},
   "source": [
    "- pad_sequences() 함수는 기본적으로 maxlen보다 긴 시퀀스의 앞부분을 잘라냄\n",
    "    - 일반적으로 시퀀스의 뒷부분의 정보가 더 유용하기 때문에\n",
    "        - 리뷰의 끝에 결정적인 소감을 말할 가능성이 높음\n",
    "    - 시퀀스의 뒷부분을 잘라내고 싶다면\n",
    "        - truncating 매개변수 값을 \"post\"로 변경\n",
    "            - 기본값은 \"pre\""
   ]
  },
  {
   "cell_type": "code",
   "execution_count": 76,
   "id": "0def43e2",
   "metadata": {},
   "outputs": [
    {
     "name": "stdout",
     "output_type": "stream",
     "text": [
      "[  0   0   0   0   0   0   0   0   0   0   0   0   0   0   0   0   0   0\n",
      "   0   0   0   0   0   0   0   0   0   0   0   0   0   0   0   0   0   0\n",
      "   0   0   0   1   2 167   2   2   2 453  23  22  15   2  19   4 118   7\n",
      "   2   2 312 453   9 258  11   4   2   5   2  11 162   2   2 270 449 422\n",
      "  92   2   2  70   2  44   2   2   5   2   4  32 323 177   2   2   2   2\n",
      "   2   2   2   2   2   2   2   5   2   2]\n"
     ]
    }
   ],
   "source": [
    "print(train_seq[25])"
   ]
  },
  {
   "cell_type": "markdown",
   "id": "622330ca",
   "metadata": {},
   "source": [
    "- 패딩 토큰은 시퀀스의 앞부분에 추가됨\n",
    "    - 시퀀스의 마지막에 있는 단어가 셀의 은닉상태에 가장 큰 영향을 미치게 되기 때문에\n",
    "    - 뒷부분에 패딩을 추가하고 싶다면\n",
    "        - padding 매개변수의 값을 \"post\"로 수정\n",
    "            - 기본값은 \"pre\""
   ]
  },
  {
   "cell_type": "code",
   "execution_count": 77,
   "id": "1f40a1cf",
   "metadata": {},
   "outputs": [],
   "source": [
    "# 검증 세트의 길이를 100으로 맞추기\n",
    "val_seq = pad_sequences(x_val, maxlen = 100)"
   ]
  },
  {
   "cell_type": "markdown",
   "id": "98992a30",
   "metadata": {},
   "source": [
    "## 모델 구성\n",
    "\n",
    "- 케라스의 SimpleRNN 클래스 사용\n",
    "- 이진분류\n",
    "    - 출력층은 1개의 뉴런을 가지고 시그모이드 출력층 함수를 사용"
   ]
  },
  {
   "cell_type": "code",
   "execution_count": 78,
   "id": "2d3d878e",
   "metadata": {},
   "outputs": [],
   "source": [
    "model = keras.Sequential()\n",
    "model.add(keras.layers.SimpleRNN(8, input_shape = (100, 500)))\n",
    "model.add(keras.layers.Dense(1, activation = \"sigmoid\"))"
   ]
  },
  {
   "cell_type": "markdown",
   "id": "f3a6e2c8",
   "metadata": {},
   "source": [
    "- SimpleRNN\n",
    "    - 첫 번째 매개변수는 사용할 뉴런의 개수\n",
    "    - input_shape\n",
    "        - 입력 차원의 첫 번째 차원은 샘플의 길이\n",
    "        - 입력 차원의 두 번째 차원은 고유한 단어 수\n",
    "            - load_data() 함수에서 500개의 단어만 사용하도록 지정했기 때문에 이번 예제의 고유한 단어 수는 500\n",
    "    - activation\n",
    "        - 기본값은 \"tanh\"\n",
    "            - 하이퍼볼릭 탄젠트\n",
    "            \n",
    "- 원핫인코딩을 사용하는 이유\n",
    "    - 토큰을 정수로 변환한 데이터를 그대로 신경망에 주입하면 큰 정수가 큰 활성화 출력을 만듦\n",
    "        - 정수 사이에는 어떤 관련도 없고 20번 토큰이 10번 토큰보다 중요한 것이 아님"
   ]
  },
  {
   "cell_type": "code",
   "execution_count": 79,
   "id": "1c342ea0",
   "metadata": {},
   "outputs": [],
   "source": [
    "# 케라스에서 제공하는 원핫인코딩을 위한 함수\n",
    "train_oh = keras.utils.to_categorical(train_seq)"
   ]
  },
  {
   "cell_type": "code",
   "execution_count": 80,
   "id": "8f656b3f",
   "metadata": {},
   "outputs": [
    {
     "name": "stdout",
     "output_type": "stream",
     "text": [
      "(20000, 100, 500)\n"
     ]
    }
   ],
   "source": [
    "print(train_oh.shape)"
   ]
  },
  {
   "cell_type": "code",
   "execution_count": 81,
   "id": "335e14d5",
   "metadata": {},
   "outputs": [
    {
     "name": "stdout",
     "output_type": "stream",
     "text": [
      "[0. 0. 0. 0. 0. 0. 0. 0. 0. 0. 0. 0. 1. 0. 0. 0. 0. 0. 0. 0. 0. 0. 0. 0.\n",
      " 0. 0. 0. 0. 0. 0.]\n"
     ]
    }
   ],
   "source": [
    "print(train_oh[0, 0, :30])"
   ]
  },
  {
   "cell_type": "code",
   "execution_count": 82,
   "id": "d693d108",
   "metadata": {},
   "outputs": [
    {
     "name": "stdout",
     "output_type": "stream",
     "text": [
      "1.0\n"
     ]
    }
   ],
   "source": [
    "print(np.sum(train_oh[0, 0]))"
   ]
  },
  {
   "cell_type": "markdown",
   "id": "a6a96f77",
   "metadata": {},
   "source": [
    "- 하나의 원소만 1이고 나머지 원소는 모두 0임"
   ]
  },
  {
   "cell_type": "code",
   "execution_count": 83,
   "id": "2977eee5",
   "metadata": {},
   "outputs": [],
   "source": [
    "# val_seq 원핫인코딩\n",
    "val_oh = keras.utils.to_categorical(val_seq)"
   ]
  },
  {
   "cell_type": "code",
   "execution_count": 84,
   "id": "af7befa3",
   "metadata": {},
   "outputs": [
    {
     "name": "stdout",
     "output_type": "stream",
     "text": [
      "Model: \"sequential_1\"\n",
      "_________________________________________________________________\n",
      " Layer (type)                Output Shape              Param #   \n",
      "=================================================================\n",
      " simple_rnn_1 (SimpleRNN)    (None, 8)                 4072      \n",
      "                                                                 \n",
      " dense_1 (Dense)             (None, 1)                 9         \n",
      "                                                                 \n",
      "=================================================================\n",
      "Total params: 4,081\n",
      "Trainable params: 4,081\n",
      "Non-trainable params: 0\n",
      "_________________________________________________________________\n"
     ]
    }
   ],
   "source": [
    "model.summary()"
   ]
  },
  {
   "cell_type": "markdown",
   "id": "978f81be",
   "metadata": {},
   "source": [
    "- SimpleRNN에 전달할 샘플의 크기는 (100, 500)이지만 순환층은 마지막 타임스텝의 은닉상태만 출력\n",
    "    - 출력 크기가 순환층의 유닛 개수와 동일\n",
    "    \n",
    "- 파라미터 개수\n",
    "    - 입력 토큰은 500차원의 원핫 인코딩 배열\n",
    "    - 배열이 순환층의 유닛 8개와 완전연결\n",
    "        - 500 * 8 = 4000\n",
    "    - 순환층의 은닉상태는 다시 다음 타임스텝에 사용하기 위해 또 다른 가중치와 곱해짐\n",
    "        - 은닉 상태 크기 * 유닛 개수\n",
    "            - 8 * 8 = 64\n",
    "    - 각 유닛마다 하나의 절편\n",
    "        - 8\n",
    "    - 4000 + 64 + 8 = 4072"
   ]
  },
  {
   "cell_type": "markdown",
   "id": "72598b80",
   "metadata": {},
   "source": [
    "## 모델 훈련"
   ]
  },
  {
   "cell_type": "code",
   "execution_count": 85,
   "id": "3b82dd1f",
   "metadata": {},
   "outputs": [],
   "source": [
    "rmsprop = keras.optimizers.RMSprop(learning_rate = 1e-4)\n",
    "model.compile(optimizer = rmsprop, loss = \"binary_crossentropy\", metrics = [\"accuracy\"])"
   ]
  },
  {
   "cell_type": "code",
   "execution_count": 86,
   "id": "161d46b6",
   "metadata": {},
   "outputs": [],
   "source": [
    "checkpoint_cb = keras.callbacks.ModelCheckpoint(\"./model/best-simplernn-model.h5\",\n",
    "                                                save_best_only = True)\n",
    "early_stopping_cb = keras.callbacks.EarlyStopping(patience = 3, restore_best_weights = True)"
   ]
  },
  {
   "cell_type": "code",
   "execution_count": 92,
   "id": "067421b7",
   "metadata": {},
   "outputs": [
    {
     "ename": "ModuleNotFoundError",
     "evalue": "No module named 'keras.backend.tensorflow_backend'; 'keras.backend' is not a package",
     "output_type": "error",
     "traceback": [
      "\u001b[1;31m---------------------------------------------------------------------------\u001b[0m",
      "\u001b[1;31mModuleNotFoundError\u001b[0m                       Traceback (most recent call last)",
      "Cell \u001b[1;32mIn[92], line 1\u001b[0m\n\u001b[1;32m----> 1\u001b[0m \u001b[38;5;28;01mimport\u001b[39;00m \u001b[38;5;21;01mkeras\u001b[39;00m\u001b[38;5;21;01m.\u001b[39;00m\u001b[38;5;21;01mbackend\u001b[39;00m\u001b[38;5;21;01m.\u001b[39;00m\u001b[38;5;21;01mtensorflow_backend\u001b[39;00m \u001b[38;5;28;01mas\u001b[39;00m \u001b[38;5;21;01mK\u001b[39;00m\n\u001b[0;32m      2\u001b[0m \u001b[38;5;28;01mwith\u001b[39;00m K\u001b[38;5;241m.\u001b[39mtf\u001b[38;5;241m.\u001b[39mdevice(\u001b[38;5;124m'\u001b[39m\u001b[38;5;124m/cpu:0\u001b[39m\u001b[38;5;124m'\u001b[39m):\n\u001b[0;32m      3\u001b[0m     model \u001b[38;5;241m=\u001b[39m keras\u001b[38;5;241m.\u001b[39mSequential()\n",
      "\u001b[1;31mModuleNotFoundError\u001b[0m: No module named 'keras.backend.tensorflow_backend'; 'keras.backend' is not a package"
     ]
    }
   ],
   "source": [
    "import keras.backend.tensorflow_backend as K\n",
    "with K.tf.device('/cpu:0'):\n",
    "    model = keras.Sequential()\n",
    "    model.add(keras.layers.SimpleRNN(8, input_shape = (100, 500)))\n",
    "    model.add(keras.layers.Dense(1, activation = \"sigmoid\"))\n",
    "    rmsprop = keras.optimizers.RMSprop(learning_rate = 1e-4)\n",
    "    model.compile(optimizer = rmsprop, loss = \"binary_crossentropy\", metrics = [\"accuracy\"])"
   ]
  },
  {
   "cell_type": "code",
   "execution_count": 91,
   "id": "4d6cdd71",
   "metadata": {},
   "outputs": [
    {
     "ename": "InternalError",
     "evalue": "Failed copying input tensor from /job:localhost/replica:0/task:0/device:CPU:0 to /job:localhost/replica:0/task:0/device:GPU:0 in order to run _EagerConst: Dst tensor is not initialized.",
     "output_type": "error",
     "traceback": [
      "\u001b[1;31m---------------------------------------------------------------------------\u001b[0m",
      "\u001b[1;31mInternalError\u001b[0m                             Traceback (most recent call last)",
      "Cell \u001b[1;32mIn[91], line 1\u001b[0m\n\u001b[1;32m----> 1\u001b[0m history \u001b[38;5;241m=\u001b[39m \u001b[43mmodel\u001b[49m\u001b[38;5;241;43m.\u001b[39;49m\u001b[43mfit\u001b[49m\u001b[43m(\u001b[49m\u001b[43mtrain_oh\u001b[49m\u001b[43m,\u001b[49m\u001b[43m \u001b[49m\u001b[43my_train\u001b[49m\u001b[43m,\u001b[49m\u001b[43m \u001b[49m\u001b[43mepochs\u001b[49m\u001b[43m \u001b[49m\u001b[38;5;241;43m=\u001b[39;49m\u001b[43m \u001b[49m\u001b[38;5;241;43m100\u001b[39;49m\u001b[43m,\u001b[49m\u001b[43m \u001b[49m\u001b[43mbatch_size\u001b[49m\u001b[43m \u001b[49m\u001b[38;5;241;43m=\u001b[39;49m\u001b[43m \u001b[49m\u001b[38;5;241;43m4\u001b[39;49m\u001b[43m,\u001b[49m\n\u001b[0;32m      2\u001b[0m \u001b[43m                    \u001b[49m\u001b[43mvalidation_data\u001b[49m\u001b[43m \u001b[49m\u001b[38;5;241;43m=\u001b[39;49m\u001b[43m \u001b[49m\u001b[43m(\u001b[49m\u001b[43mval_oh\u001b[49m\u001b[43m,\u001b[49m\u001b[43m \u001b[49m\u001b[43my_val\u001b[49m\u001b[43m)\u001b[49m\u001b[43m,\u001b[49m\n\u001b[0;32m      3\u001b[0m \u001b[43m                    \u001b[49m\u001b[43mcallbacks\u001b[49m\u001b[43m \u001b[49m\u001b[38;5;241;43m=\u001b[39;49m\u001b[43m \u001b[49m\u001b[43m[\u001b[49m\u001b[43mcheckpoint_cb\u001b[49m\u001b[43m,\u001b[49m\u001b[43m \u001b[49m\u001b[43mearly_stopping_cb\u001b[49m\u001b[43m]\u001b[49m\u001b[43m)\u001b[49m\n",
      "File \u001b[1;32mC:\\ProgramData\\anaconda3\\lib\\site-packages\\keras\\utils\\traceback_utils.py:67\u001b[0m, in \u001b[0;36mfilter_traceback.<locals>.error_handler\u001b[1;34m(*args, **kwargs)\u001b[0m\n\u001b[0;32m     65\u001b[0m \u001b[38;5;28;01mexcept\u001b[39;00m \u001b[38;5;167;01mException\u001b[39;00m \u001b[38;5;28;01mas\u001b[39;00m e:  \u001b[38;5;66;03m# pylint: disable=broad-except\u001b[39;00m\n\u001b[0;32m     66\u001b[0m   filtered_tb \u001b[38;5;241m=\u001b[39m _process_traceback_frames(e\u001b[38;5;241m.\u001b[39m__traceback__)\n\u001b[1;32m---> 67\u001b[0m   \u001b[38;5;28;01mraise\u001b[39;00m e\u001b[38;5;241m.\u001b[39mwith_traceback(filtered_tb) \u001b[38;5;28;01mfrom\u001b[39;00m \u001b[38;5;28mNone\u001b[39m\n\u001b[0;32m     68\u001b[0m \u001b[38;5;28;01mfinally\u001b[39;00m:\n\u001b[0;32m     69\u001b[0m   \u001b[38;5;28;01mdel\u001b[39;00m filtered_tb\n",
      "File \u001b[1;32mC:\\ProgramData\\anaconda3\\lib\\site-packages\\tensorflow\\python\\framework\\constant_op.py:102\u001b[0m, in \u001b[0;36mconvert_to_eager_tensor\u001b[1;34m(value, ctx, dtype)\u001b[0m\n\u001b[0;32m    100\u001b[0m     dtype \u001b[38;5;241m=\u001b[39m dtypes\u001b[38;5;241m.\u001b[39mas_dtype(dtype)\u001b[38;5;241m.\u001b[39mas_datatype_enum\n\u001b[0;32m    101\u001b[0m ctx\u001b[38;5;241m.\u001b[39mensure_initialized()\n\u001b[1;32m--> 102\u001b[0m \u001b[38;5;28;01mreturn\u001b[39;00m \u001b[43mops\u001b[49m\u001b[38;5;241;43m.\u001b[39;49m\u001b[43mEagerTensor\u001b[49m\u001b[43m(\u001b[49m\u001b[43mvalue\u001b[49m\u001b[43m,\u001b[49m\u001b[43m \u001b[49m\u001b[43mctx\u001b[49m\u001b[38;5;241;43m.\u001b[39;49m\u001b[43mdevice_name\u001b[49m\u001b[43m,\u001b[49m\u001b[43m \u001b[49m\u001b[43mdtype\u001b[49m\u001b[43m)\u001b[49m\n",
      "\u001b[1;31mInternalError\u001b[0m: Failed copying input tensor from /job:localhost/replica:0/task:0/device:CPU:0 to /job:localhost/replica:0/task:0/device:GPU:0 in order to run _EagerConst: Dst tensor is not initialized."
     ]
    }
   ],
   "source": [
    "history = model.fit(train_oh, y_train, epochs = 100, batch_size = 4,\n",
    "                    validation_data = (val_oh, y_val),\n",
    "                    callbacks = [checkpoint_cb, early_stopping_cb])"
   ]
  },
  {
   "cell_type": "code",
   "execution_count": null,
   "id": "59c52a98",
   "metadata": {},
   "outputs": [],
   "source": [
    "plt.figure()\n",
    "plt.plot(history.history[\"loss\"], label = \"train_loss\")\n",
    "plt.plot(history.history[\"val_loss\"], label = \"val_loss\")\n",
    "plt.plot(history.history[\"accuracy\"], label = \"train_acc\")\n",
    "plt.plot(history.history[\"val_accuracy\"], label = \"val_acc\")\n",
    "plt.xlabel(\"epoch\")\n",
    "plt.legend()\n",
    "plt.show()"
   ]
  },
  {
   "cell_type": "markdown",
   "id": "9b17e561",
   "metadata": {},
   "source": [
    "- 원핫인코딩의 단점\n",
    "    - 입력데이터가 매우 커짐"
   ]
  },
  {
   "cell_type": "code",
   "execution_count": 93,
   "id": "167cab21",
   "metadata": {},
   "outputs": [
    {
     "name": "stdout",
     "output_type": "stream",
     "text": [
      "8000000 4000000000\n"
     ]
    }
   ],
   "source": [
    "print(train_seq.nbytes, train_oh.nbytes)"
   ]
  },
  {
   "cell_type": "markdown",
   "id": "b475499d",
   "metadata": {},
   "source": [
    "- 토큰 1개를 500차원으로 늘렸기 때문에 500배가 커짐\n",
    "    - 훈련 데이터가 커질수록 문제가 더 심해짐"
   ]
  },
  {
   "cell_type": "markdown",
   "id": "cb8083b9",
   "metadata": {},
   "source": [
    "# 단어 임베딩을 활용한 RNN 텍스트 분류\n",
    "\n",
    "<img src = \"./image/embedding.png\">"
   ]
  },
  {
   "cell_type": "markdown",
   "id": "5d2545ee",
   "metadata": {},
   "source": [
    "- 단어 임베딩(word embedding)\n",
    "    - 순환 신경망에서 텍스트를 처리할 때 즐겨 사용하는 방법\n",
    "    - 각 단어를 고정된 크기의 실수 벡터로 변환\n",
    "    \n",
    "- 단어 임베딩으로 만들어진 벡터는 원핫인코딩벡터보다 훨씬 의미 있는 값으로 채워져 있음\n",
    "    - 자연어 처리에서 더 좋은 성능을 내는 경우가 많음\n",
    "    - 단어 임베딩 벡터를 만드는 층은 Embedding 클래스로 케라스에서 제공\n",
    "        - 처음에는 모든 벡터가 랜덤하게 초기화되고 훈련을 통해 데이터에서 좋은 단어 임베딩을 학습\n",
    "        \n",
    "- 단어 임베딩의 장점\n",
    "    - 입력으로 정수 데이터를 받음\n",
    "        - 원핫 인코딩으로 변경된 배열이 아니라 train_seq를 바로 사용할 수 있음\n",
    "        - 메모리를 훨씬 효율적으로 사용할 수 있음\n",
    "    - 원핫 인코딩보다 훨씬 작은 크기로도 단어를 잘 표현할 수 있음"
   ]
  },
  {
   "cell_type": "code",
   "execution_count": 94,
   "id": "809637b3",
   "metadata": {},
   "outputs": [],
   "source": [
    "model2 = keras.Sequential()\n",
    "model2.add(keras.layers.Embedding(500, 16, input_length = 100))\n",
    "model2.add(keras.layers.SimpleRNN(8))\n",
    "model2.add(keras.layers.Dense(1, activation = \"sigmoid\"))"
   ]
  },
  {
   "cell_type": "markdown",
   "id": "53f6e4a7",
   "metadata": {},
   "source": [
    "- Embedding\n",
    "    - 첫 번째 매개변수는 어휘 사전의 크기\n",
    "        - 앞에서 IMDB 데이터셋에서 500개의 단어만 사용하도록 설정했기 때문에 같은 값으로 설정\n",
    "    - 두 번째 매개변수는 임베딩 벡터의 크기\n",
    "    - input_length 매개변수는 입력 시퀀스의 길이\n",
    "        - 앞에서 샘플의 길이를 100으로 맞추어서 같은 값으로 설정"
   ]
  },
  {
   "cell_type": "code",
   "execution_count": 95,
   "id": "7d909a93",
   "metadata": {},
   "outputs": [
    {
     "name": "stdout",
     "output_type": "stream",
     "text": [
      "Model: \"sequential_2\"\n",
      "_________________________________________________________________\n",
      " Layer (type)                Output Shape              Param #   \n",
      "=================================================================\n",
      " embedding (Embedding)       (None, 100, 16)           8000      \n",
      "                                                                 \n",
      " simple_rnn_2 (SimpleRNN)    (None, 8)                 200       \n",
      "                                                                 \n",
      " dense_2 (Dense)             (None, 1)                 9         \n",
      "                                                                 \n",
      "=================================================================\n",
      "Total params: 8,209\n",
      "Trainable params: 8,209\n",
      "Non-trainable params: 0\n",
      "_________________________________________________________________\n"
     ]
    }
   ],
   "source": [
    "model2.summary()"
   ]
  },
  {
   "cell_type": "markdown",
   "id": "1f58e9a1",
   "metadata": {},
   "source": [
    "- Embedding\n",
    "    - (100,)크기의 입력을 받아 (100, 16) 크기의 출력을 만듦\n",
    "    - 500개의 각 토큰을 크기가 16인 벡터로 변경\n",
    "        - 500 * 16 = 8000 개의 파라미터를 가짐\n",
    "        \n",
    "- SimpleRNN\n",
    "    - 임베딩 벡터의 크기가 16, 유닛의 개수 8\n",
    "        - 16 * 8 = 128\n",
    "    - 은닉 상태에 곱해지는 가중치\n",
    "        - 8 * 8 = 64\n",
    "    - 8개의 절편\n",
    "    - 128 + 64 + 8 = 200"
   ]
  },
  {
   "cell_type": "code",
   "execution_count": 96,
   "id": "acdf7a7d",
   "metadata": {},
   "outputs": [],
   "source": [
    "rmsprop = keras.optimizers.RMSprop(learning_rate = 1e-4)\n",
    "model2.compile(optimizer = rmsprop, loss = \"binary_crossentropy\", metrics = [\"accuracy\"])"
   ]
  },
  {
   "cell_type": "code",
   "execution_count": 97,
   "id": "da61563d",
   "metadata": {},
   "outputs": [],
   "source": [
    "checkpoint_cb = keras.callbacks.ModelCheckpoint(\"./model/best-embedding-model.h5\",\n",
    "                                                save_best_only = True)\n",
    "early_stopping_cb = keras.callbacks.EarlyStopping(patience = 3, restore_best_weights = True)"
   ]
  },
  {
   "cell_type": "code",
   "execution_count": 98,
   "id": "e2f9a93a",
   "metadata": {},
   "outputs": [
    {
     "name": "stdout",
     "output_type": "stream",
     "text": [
      "Epoch 1/100\n",
      "313/313 [==============================] - 64s 196ms/step - loss: 0.6961 - accuracy: 0.4996 - val_loss: 0.6936 - val_accuracy: 0.5190\n",
      "Epoch 2/100\n",
      "313/313 [==============================] - 69s 220ms/step - loss: 0.6925 - accuracy: 0.5163 - val_loss: 0.6923 - val_accuracy: 0.5244\n",
      "Epoch 3/100\n",
      "313/313 [==============================] - 56s 178ms/step - loss: 0.6896 - accuracy: 0.5354 - val_loss: 0.6915 - val_accuracy: 0.5264\n",
      "Epoch 4/100\n",
      "313/313 [==============================] - 57s 183ms/step - loss: 0.6867 - accuracy: 0.5525 - val_loss: 0.6910 - val_accuracy: 0.5300\n",
      "Epoch 5/100\n",
      "313/313 [==============================] - 57s 184ms/step - loss: 0.6838 - accuracy: 0.5657 - val_loss: 0.6907 - val_accuracy: 0.5300\n",
      "Epoch 6/100\n",
      "313/313 [==============================] - 58s 185ms/step - loss: 0.6807 - accuracy: 0.5746 - val_loss: 0.6908 - val_accuracy: 0.5304\n",
      "Epoch 7/100\n",
      "313/313 [==============================] - 59s 189ms/step - loss: 0.6776 - accuracy: 0.5823 - val_loss: 0.6906 - val_accuracy: 0.5340\n",
      "Epoch 8/100\n",
      "313/313 [==============================] - 61s 196ms/step - loss: 0.6745 - accuracy: 0.5883 - val_loss: 0.6908 - val_accuracy: 0.5308\n",
      "Epoch 9/100\n",
      "313/313 [==============================] - 58s 186ms/step - loss: 0.6713 - accuracy: 0.5976 - val_loss: 0.6910 - val_accuracy: 0.5346\n",
      "Epoch 10/100\n",
      "313/313 [==============================] - 59s 189ms/step - loss: 0.6681 - accuracy: 0.6017 - val_loss: 0.6917 - val_accuracy: 0.5308\n"
     ]
    }
   ],
   "source": [
    "history = model2.fit(train_seq, y_train, epochs = 100, batch_size = 64,\n",
    "                     validation_data = (val_seq, y_val),\n",
    "                     callbacks = [checkpoint_cb, early_stopping_cb])"
   ]
  },
  {
   "cell_type": "code",
   "execution_count": 99,
   "id": "8b1681e6",
   "metadata": {},
   "outputs": [
    {
     "data": {
      "image/png": "[encoded data removed]",
      "text/plain": [
       "<Figure size 640x480 with 1 Axes>"
      ]
     },
     "metadata": {},
     "output_type": "display_data"
    }
   ],
   "source": [
    "plt.figure()\n",
    "plt.plot(history.history[\"loss\"], label = \"train_loss\")\n",
    "plt.plot(history.history[\"val_loss\"], label = \"val_loss\")\n",
    "plt.plot(history.history[\"accuracy\"], label = \"train_acc\")\n",
    "plt.plot(history.history[\"val_accuracy\"], label = \"val_acc\")\n",
    "plt.xlabel(\"epoch\")\n",
    "plt.legend()\n",
    "plt.show()"
   ]
  },
  {
   "cell_type": "code",
   "execution_count": null,
   "id": "d6bf28dd",
   "metadata": {},
   "outputs": [],
   "source": []
  }
 ],
 "metadata": {
  "kernelspec": {
   "display_name": "Python 3 (ipykernel)",
   "language": "python",
   "name": "python3"
  },
  "language_info": {
   "codemirror_mode": {
    "name": "ipython",
    "version": 3
   },
   "file_extension": ".py",
   "mimetype": "text/x-python",
   "name": "python",
   "nbconvert_exporter": "python",
   "pygments_lexer": "ipython3",
   "version": "3.10.9"
  }
 },
 "nbformat": 4,
 "nbformat_minor": 5
}
