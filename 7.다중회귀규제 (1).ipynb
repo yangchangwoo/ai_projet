{
 "cells": [
  {
   "cell_type": "markdown",
   "id": "c01bcbaf",
   "metadata": {},
   "source": [
    "# 다중 회귀\n",
    "\n",
    "- 여러 개의 특성을 사용한 선형 회귀\n",
    "- 회귀식\n",
    "    - 종속변수 = w1 * x1 + w2 * x2 + ...... + y절편"
   ]
  },
  {
   "cell_type": "markdown",
   "id": "d0247aa0",
   "metadata": {},
   "source": [
    "## 특성 공학(feature engineering)\n",
    "\n",
    "- 기존의 특성을 사용해 새로운 특성을 만들어내는 작업\n",
    "- 특성 공학 기법\n",
    "    - 차원 축소(Dimension Reduction)\n",
    "        - 특성 선정(Feature Selection)\n",
    "            - 특성 랭킹 또는 특성 중요도에 따라 선정\n",
    "            - 분석가의 사전 배경 지식을 이용하거나, 랜덤 선정 및 측정을 반복하는 방법\n",
    "            \n",
    "        - 특성 추출(Feature Extraction)\n",
    "            - 특성들의 조합으로 새로운 특성을 생성\n",
    "        \n",
    "    - 스케일링(Scaling)\n",
    "        - 변수의 분포가 편향되어 있을 경우, 변수 간의 관계가 잘 드러나지 않는 경우 범위 변환\n",
    "    \n",
    "    - 변형(Transform)\n",
    "        - 기존에 존재하는 변수의 성질을 이용해 다른 변수를 생성하는 방법\n",
    "            - 예) 날짜별 데이터에 주말 여부 추가\n",
    "    \n",
    "    - 비닝(Binning)\n",
    "        - 연속형 변수를 범주형 변수로 변환\n",
    "            - 예) 33세, 47세 -> 30대, 40대\n",
    "    \n",
    "    - 더미(Dummy)\n",
    "        - 범주형 변수를 연속형 변수로 변환\n",
    "            - 기존 특성이나 특성의 조합을 규칙에 따라 수치화하여 추가"
   ]
  },
  {
   "cell_type": "code",
   "execution_count": 1,
   "id": "1df61a22",
   "metadata": {},
   "outputs": [],
   "source": [
    "import pandas as pd\n",
    "import numpy as np\n",
    "from sklearn.model_selection import train_test_split\n",
    "from sklearn.preprocessing import PolynomialFeatures, StandardScaler\n",
    "from sklearn.linear_model import LinearRegression, Ridge, Lasso\n",
    "import matplotlib.pyplot as plt"
   ]
  },
  {
   "cell_type": "markdown",
   "id": "c9c7d37c",
   "metadata": {},
   "source": [
    "# 데이터 준비"
   ]
  },
  {
   "cell_type": "code",
   "execution_count": 2,
   "id": "26fda8a9",
   "metadata": {},
   "outputs": [],
   "source": [
    "df = pd.read_csv(\"./data/Fish.csv\")"
   ]
  },
  {
   "cell_type": "code",
   "execution_count": 3,
   "id": "9993d639",
   "metadata": {},
   "outputs": [],
   "source": [
    "df = df[df[\"Species\"] == \"Perch\"][[\"Weight\", \"Length2\", \"Height\", \"Width\"]]"
   ]
  },
  {
   "cell_type": "code",
   "execution_count": 4,
   "id": "b71fa8a5",
   "metadata": {},
   "outputs": [
    {
     "data": {
      "text/html": [
       "<div>\n",
       "<style scoped>\n",
       "    .dataframe tbody tr th:only-of-type {\n",
       "        vertical-align: middle;\n",
       "    }\n",
       "\n",
       "    .dataframe tbody tr th {\n",
       "        vertical-align: top;\n",
       "    }\n",
       "\n",
       "    .dataframe thead th {\n",
       "        text-align: right;\n",
       "    }\n",
       "</style>\n",
       "<table border=\"1\" class=\"dataframe\">\n",
       "  <thead>\n",
       "    <tr style=\"text-align: right;\">\n",
       "      <th></th>\n",
       "      <th>Weight</th>\n",
       "      <th>Length2</th>\n",
       "      <th>Height</th>\n",
       "      <th>Width</th>\n",
       "    </tr>\n",
       "  </thead>\n",
       "  <tbody>\n",
       "    <tr>\n",
       "      <th>72</th>\n",
       "      <td>5.9</td>\n",
       "      <td>8.4</td>\n",
       "      <td>2.1120</td>\n",
       "      <td>1.4080</td>\n",
       "    </tr>\n",
       "    <tr>\n",
       "      <th>73</th>\n",
       "      <td>32.0</td>\n",
       "      <td>13.7</td>\n",
       "      <td>3.5280</td>\n",
       "      <td>1.9992</td>\n",
       "    </tr>\n",
       "    <tr>\n",
       "      <th>74</th>\n",
       "      <td>40.0</td>\n",
       "      <td>15.0</td>\n",
       "      <td>3.8240</td>\n",
       "      <td>2.4320</td>\n",
       "    </tr>\n",
       "    <tr>\n",
       "      <th>75</th>\n",
       "      <td>51.5</td>\n",
       "      <td>16.2</td>\n",
       "      <td>4.5924</td>\n",
       "      <td>2.6316</td>\n",
       "    </tr>\n",
       "    <tr>\n",
       "      <th>76</th>\n",
       "      <td>70.0</td>\n",
       "      <td>17.4</td>\n",
       "      <td>4.5880</td>\n",
       "      <td>2.9415</td>\n",
       "    </tr>\n",
       "  </tbody>\n",
       "</table>\n",
       "</div>"
      ],
      "text/plain": [
       "    Weight  Length2  Height   Width\n",
       "72     5.9      8.4  2.1120  1.4080\n",
       "73    32.0     13.7  3.5280  1.9992\n",
       "74    40.0     15.0  3.8240  2.4320\n",
       "75    51.5     16.2  4.5924  2.6316\n",
       "76    70.0     17.4  4.5880  2.9415"
      ]
     },
     "execution_count": 4,
     "metadata": {},
     "output_type": "execute_result"
    }
   ],
   "source": [
    "df.head()"
   ]
  },
  {
   "cell_type": "code",
   "execution_count": 5,
   "id": "39cfef7c",
   "metadata": {},
   "outputs": [],
   "source": [
    "x = df.drop(\"Weight\", axis = 1)\n",
    "y = df[\"Weight\"]"
   ]
  },
  {
   "cell_type": "code",
   "execution_count": 6,
   "id": "b12e6a29",
   "metadata": {},
   "outputs": [],
   "source": [
    "x_train, x_test, y_train,  y_test = train_test_split(x, y, test_size = 0.25, random_state = 0)"
   ]
  },
  {
   "cell_type": "code",
   "execution_count": 7,
   "id": "3a1e9910",
   "metadata": {},
   "outputs": [
    {
     "data": {
      "text/plain": [
       "(42, 3)"
      ]
     },
     "execution_count": 7,
     "metadata": {},
     "output_type": "execute_result"
    }
   ],
   "source": [
    "x_train.shape"
   ]
  },
  {
   "cell_type": "code",
   "execution_count": 8,
   "id": "75a3468c",
   "metadata": {},
   "outputs": [
    {
     "data": {
      "text/plain": [
       "array([[1., 2., 3., 4., 6., 9.]])"
      ]
     },
     "execution_count": 8,
     "metadata": {},
     "output_type": "execute_result"
    }
   ],
   "source": [
    "# PolynomialFeatures 사용 예시\n",
    "pf = PolynomialFeatures()\n",
    "pf.fit_transform([[2, 3]])"
   ]
  },
  {
   "cell_type": "code",
   "execution_count": 9,
   "id": "9122fe8c",
   "metadata": {},
   "outputs": [
    {
     "data": {
      "text/plain": [
       "array(['1', 'x0', 'x1', 'x0^2', 'x0 x1', 'x1^2'], dtype=object)"
      ]
     },
     "execution_count": 9,
     "metadata": {},
     "output_type": "execute_result"
    }
   ],
   "source": [
    "# 특성이 어떻게 만들어졌는지 확인\n",
    "pf.get_feature_names_out()"
   ]
  },
  {
   "cell_type": "markdown",
   "id": "cff66288",
   "metadata": {},
   "source": [
    "- include_bias : 절편을 추가해주는 파라미터\n",
    "    - 사이킷런의 선형 회귀 모델은 자동으로 절편을 추가해주기 때문에 굳이 절편을 추가할 필요가 없음"
   ]
  },
  {
   "cell_type": "code",
   "execution_count": 10,
   "id": "37dd17aa",
   "metadata": {},
   "outputs": [
    {
     "data": {
      "text/plain": [
       "array([[2., 3., 4., 6., 9.]])"
      ]
     },
     "execution_count": 10,
     "metadata": {},
     "output_type": "execute_result"
    }
   ],
   "source": [
    "pf = PolynomialFeatures(include_bias = False)\n",
    "pf.fit_transform([[2, 3]])"
   ]
  },
  {
   "cell_type": "code",
   "execution_count": 11,
   "id": "e6de4677",
   "metadata": {},
   "outputs": [],
   "source": [
    "# 실전 적용\n",
    "pf = PolynomialFeatures(include_bias = False)\n",
    "poly_train = pf.fit_transform(x_train)\n",
    "poly_test = pf.transform(x_test)"
   ]
  },
  {
   "cell_type": "markdown",
   "id": "496e5f85",
   "metadata": {},
   "source": [
    "- PolynomialFeatures는 별도의 통계값을 저장하지 않기 때문에 테스트 세트를 함께 변환해도 차이가 없지만 항상 훈련데이터를 기준으로 학습하고 테스트 데이터를 변환하는 습관을 들이는 것이 중요"
   ]
  },
  {
   "cell_type": "code",
   "execution_count": 12,
   "id": "6b649b9f",
   "metadata": {},
   "outputs": [
    {
     "data": {
      "text/plain": [
       "(42, 9)"
      ]
     },
     "execution_count": 12,
     "metadata": {},
     "output_type": "execute_result"
    }
   ],
   "source": [
    "poly_train.shape"
   ]
  },
  {
   "cell_type": "markdown",
   "id": "cc701a6d",
   "metadata": {},
   "source": [
    "# 모델 훈련"
   ]
  },
  {
   "cell_type": "code",
   "execution_count": 13,
   "id": "23ce8fc8",
   "metadata": {},
   "outputs": [
    {
     "data": {
      "text/plain": [
       "0.8974351710978307"
      ]
     },
     "execution_count": 13,
     "metadata": {},
     "output_type": "execute_result"
    }
   ],
   "source": [
    "# 특성 공학 전 데이터로 학습한 모델\n",
    "lr_org = LinearRegression()\n",
    "lr_org.fit(x_train, y_train)\n",
    "lr_org.score(x_test, y_test)"
   ]
  },
  {
   "cell_type": "code",
   "execution_count": 14,
   "id": "489bb1fc",
   "metadata": {},
   "outputs": [
    {
     "data": {
      "text/plain": [
       "0.946573874702987"
      ]
     },
     "execution_count": 14,
     "metadata": {},
     "output_type": "execute_result"
    }
   ],
   "source": [
    "lr_org.score(x_train, y_train)"
   ]
  },
  {
   "cell_type": "markdown",
   "id": "966e45eb",
   "metadata": {},
   "source": [
    "- 훈련 데이터 평가치가 테스트 데이터 평가치보다 낮으면 과소적합 의심"
   ]
  },
  {
   "cell_type": "code",
   "execution_count": 15,
   "id": "bece2f87",
   "metadata": {},
   "outputs": [
    {
     "data": {
      "text/plain": [
       "0.9516485166400668"
      ]
     },
     "execution_count": 15,
     "metadata": {},
     "output_type": "execute_result"
    }
   ],
   "source": [
    "lr_poly = LinearRegression()\n",
    "lr_poly.fit(poly_train, y_train)\n",
    "lr_poly.score(poly_test, y_test)"
   ]
  },
  {
   "cell_type": "code",
   "execution_count": 16,
   "id": "fd90710f",
   "metadata": {},
   "outputs": [
    {
     "data": {
      "text/plain": [
       "0.9930769549765329"
      ]
     },
     "execution_count": 16,
     "metadata": {},
     "output_type": "execute_result"
    }
   ],
   "source": [
    "lr_poly.score(poly_train, y_train)"
   ]
  },
  {
   "cell_type": "markdown",
   "id": "dd61fe42",
   "metadata": {},
   "source": [
    "# 모델 최적화\n",
    "\n",
    "- 특성을 더 추가\n",
    "    - degree 매개변수 : 고차항의 최대 차수를 지정"
   ]
  },
  {
   "cell_type": "code",
   "execution_count": 17,
   "id": "43b810e7",
   "metadata": {},
   "outputs": [
    {
     "data": {
      "text/plain": [
       "(42, 55)"
      ]
     },
     "execution_count": 17,
     "metadata": {},
     "output_type": "execute_result"
    }
   ],
   "source": [
    "pf = PolynomialFeatures(degree = 5, include_bias = False)\n",
    "poly_train5 = pf.fit_transform(x_train)\n",
    "poly_test5 = pf.transform(x_test)\n",
    "poly_train5.shape"
   ]
  },
  {
   "cell_type": "code",
   "execution_count": 18,
   "id": "50e18871",
   "metadata": {},
   "outputs": [
    {
     "data": {
      "text/plain": [
       "-163.42204401447913"
      ]
     },
     "execution_count": 18,
     "metadata": {},
     "output_type": "execute_result"
    }
   ],
   "source": [
    "lr_poly5 = LinearRegression()\n",
    "lr_poly5.fit(poly_train5, y_train)\n",
    "lr_poly5.score(poly_test5, y_test)"
   ]
  },
  {
   "cell_type": "code",
   "execution_count": 19,
   "id": "15e12e7e",
   "metadata": {},
   "outputs": [
    {
     "data": {
      "text/plain": [
       "0.9999999999980731"
      ]
     },
     "execution_count": 19,
     "metadata": {},
     "output_type": "execute_result"
    }
   ],
   "source": [
    "lr_poly5.score(poly_train5, y_train)"
   ]
  },
  {
   "cell_type": "markdown",
   "id": "c8b66d3c",
   "metadata": {},
   "source": [
    "- 훈련데이터에 대해서는 완벽하게 학습했음\n",
    "- 테스트데이터에 대해서는 분산보다 오차가 큼\n",
    "    - 데이터의 평균으로 찍는 것 보다 성능이 떨어짐\n",
    "    - 과대적합이 일어났음"
   ]
  },
  {
   "cell_type": "markdown",
   "id": "ad8ca49a",
   "metadata": {},
   "source": [
    "# 규제(regularization)\n",
    "\n",
    "- 머신러닝 모델이 훈련 세트를 과도하게 학습하지 못하도록 방지하는 것\n",
    "    - 선형 회귀 모델의 경우에는 특성의 기울기 크기를 제한\n",
    "    \n",
    "- 선형 회귀 모델에 규제를 가하는 방법에 따라 릿지(ridge)모델과 라쏘(lasso)로 나뉨\n",
    "\n",
    "- 릿지 모델\n",
    "    - 계수를 제곱한 값을 제한\n",
    "    - l2규제\n",
    "    \n",
    "- 라쏘 모델\n",
    "    - 계수의 절댓값을 제한\n",
    "    - l1 규제"
   ]
  },
  {
   "cell_type": "code",
   "execution_count": 20,
   "id": "35c60ff6",
   "metadata": {},
   "outputs": [],
   "source": [
    "# 일반적으로 선형 회귀 모델에 규제를 적용할 때 계수 값의 크기가 서로 많이 다르면 제어가 힘듦\n",
    "# 규제 적용 전에 스케일링을 수행\n",
    "ss = StandardScaler()\n",
    "scaled_train = ss.fit_transform(poly_train5)\n",
    "scaled_test = ss.transform(poly_test5)"
   ]
  },
  {
   "cell_type": "markdown",
   "id": "4ae62fcf",
   "metadata": {},
   "source": [
    "# 릿지 회귀"
   ]
  },
  {
   "cell_type": "code",
   "execution_count": 21,
   "id": "d079007d",
   "metadata": {},
   "outputs": [
    {
     "data": {
      "text/plain": [
       "0.9581305167403029"
      ]
     },
     "execution_count": 21,
     "metadata": {},
     "output_type": "execute_result"
    }
   ],
   "source": [
    "rid = Ridge()\n",
    "rid.fit(scaled_train, y_train)\n",
    "rid.score(scaled_test, y_test)"
   ]
  },
  {
   "cell_type": "code",
   "execution_count": 22,
   "id": "6508fbbc",
   "metadata": {},
   "outputs": [
    {
     "data": {
      "text/plain": [
       "0.9923055709825884"
      ]
     },
     "execution_count": 22,
     "metadata": {},
     "output_type": "execute_result"
    }
   ],
   "source": [
    "rid.score(scaled_train, y_train)"
   ]
  },
  {
   "cell_type": "markdown",
   "id": "cc883ec8",
   "metadata": {},
   "source": [
    "## 초매개변수(hyperparameter)\n",
    "\n",
    "- 머신러닝 모델이 학습할 수 없고 사람이 설정해야하는 파라미터\n",
    "- 사이킷런 모델에서 하이퍼파라미터는 클래스의 매개변수로 표현됨"
   ]
  },
  {
   "cell_type": "markdown",
   "id": "d669d588",
   "metadata": {},
   "source": [
    "## 릿지 모델 하이퍼파라미터 튜닝\n",
    "\n",
    "- alpha : 규제의 강도\n",
    "    - alpha 값이 크면\n",
    "        - 규제의 강도가 세짐\n",
    "        - 계수의 값을 줄이고 과소적합을 유도\n",
    "        \n",
    "    - alpha 값이 작으면\n",
    "        - 규제의 강도가 약해짐\n",
    "        - 계수의 값을 덜 줄이고 과대적합 가능성이 커짐"
   ]
  },
  {
   "cell_type": "code",
   "execution_count": 28,
   "id": "e39ca433",
   "metadata": {},
   "outputs": [],
   "source": [
    "train_hist = []\n",
    "test_hist = []\n",
    "\n",
    "alpha_li = [0.001, 0.01, 0.1, 1, 10, 100]\n",
    "\n",
    "for alpha in alpha_li:\n",
    "    # 모델 생성\n",
    "    rid = Ridge(alpha = alpha)\n",
    "    \n",
    "    # 훈련\n",
    "    rid.fit(scaled_train, y_train)\n",
    "    \n",
    "    # 모델 성능을 저장\n",
    "    train_hist.append(rid.score(scaled_train, y_train))\n",
    "    test_hist.append(rid.score(scaled_test, y_test))"
   ]
  },
  {
   "cell_type": "code",
   "execution_count": 29,
   "id": "bd3b0060",
   "metadata": {},
   "outputs": [
    {
     "data": {
      "image/png": "[encoded data removed]",
      "text/plain": [
       "<Figure size 640x480 with 1 Axes>"
      ]
     },
     "metadata": {},
     "output_type": "display_data"
    }
   ],
   "source": [
    "plt.figure()\n",
    "# alpha 값을 그대로 x에 적용하면 간격이 서로 다르기 때문에 로그 함수로 바꾸어서 시각화\n",
    "plt.plot(np.log10(alpha_li), train_hist)\n",
    "plt.plot(np.log10(alpha_li), test_hist)\n",
    "\n",
    "plt.xlabel(\"alpha\")\n",
    "plt.ylabel(\"R2\")\n",
    "plt.legend(labels = [\"train\", \"test\"])\n",
    "\n",
    "plt.show()"
   ]
  },
  {
   "cell_type": "markdown",
   "id": "368add4a",
   "metadata": {},
   "source": [
    "- alpha 가 작을 때는 훈련데이터에만 잘 맞고 테스트 데이터에는 못 맞힘\n",
    "    - 과대적합이 일어났음\n",
    "    \n",
    "- alpha가 커질수록 훈련데이터 점수가 낮아짐\n",
    "    - 과소적합으로 유도되고 있음\n",
    "    \n",
    "- 테스트 데이터에 가장 점수가 높은 alpha 값은 100임"
   ]
  },
  {
   "cell_type": "code",
   "execution_count": 30,
   "id": "78b375b1",
   "metadata": {},
   "outputs": [
    {
     "name": "stdout",
     "output_type": "stream",
     "text": [
      "0.9804903006595993\n",
      "0.9792376567993212\n"
     ]
    }
   ],
   "source": [
    "rid = Ridge(alpha = 100)\n",
    "rid.fit(scaled_train, y_train)\n",
    "print(rid.score(scaled_train, y_train))\n",
    "print(rid.score(scaled_test, y_test))"
   ]
  },
  {
   "cell_type": "markdown",
   "id": "69a589fd",
   "metadata": {},
   "source": [
    "# 라쏘 회귀"
   ]
  },
  {
   "cell_type": "code",
   "execution_count": 31,
   "id": "e859c8b2",
   "metadata": {},
   "outputs": [
    {
     "name": "stdout",
     "output_type": "stream",
     "text": [
      "0.9914358132018417\n",
      "0.9590109434768448\n"
     ]
    },
    {
     "name": "stderr",
     "output_type": "stream",
     "text": [
      "C:\\ProgramData\\anaconda3\\lib\\site-packages\\sklearn\\linear_model\\_coordinate_descent.py:631: ConvergenceWarning: Objective did not converge. You might want to increase the number of iterations, check the scale of the features or consider increasing regularisation. Duality gap: 1.239e+03, tolerance: 5.656e+02\n",
      "  model = cd_fast.enet_coordinate_descent(\n"
     ]
    }
   ],
   "source": [
    "las = Lasso()\n",
    "las.fit(scaled_train, y_train)\n",
    "print(las.score(scaled_train, y_train))\n",
    "print(las.score(scaled_test, y_test))"
   ]
  },
  {
   "cell_type": "markdown",
   "id": "676c3854",
   "metadata": {},
   "source": [
    "## 라쏘 모델 하이퍼파라미터 튜닝"
   ]
  },
  {
   "cell_type": "code",
   "execution_count": 32,
   "id": "6ea57b7d",
   "metadata": {},
   "outputs": [
    {
     "name": "stderr",
     "output_type": "stream",
     "text": [
      "C:\\ProgramData\\anaconda3\\lib\\site-packages\\sklearn\\linear_model\\_coordinate_descent.py:631: ConvergenceWarning: Objective did not converge. You might want to increase the number of iterations, check the scale of the features or consider increasing regularisation. Duality gap: 1.620e+04, tolerance: 5.656e+02\n",
      "  model = cd_fast.enet_coordinate_descent(\n",
      "C:\\ProgramData\\anaconda3\\lib\\site-packages\\sklearn\\linear_model\\_coordinate_descent.py:631: ConvergenceWarning: Objective did not converge. You might want to increase the number of iterations, check the scale of the features or consider increasing regularisation. Duality gap: 1.487e+04, tolerance: 5.656e+02\n",
      "  model = cd_fast.enet_coordinate_descent(\n",
      "C:\\ProgramData\\anaconda3\\lib\\site-packages\\sklearn\\linear_model\\_coordinate_descent.py:631: ConvergenceWarning: Objective did not converge. You might want to increase the number of iterations, check the scale of the features or consider increasing regularisation. Duality gap: 4.014e+03, tolerance: 5.656e+02\n",
      "  model = cd_fast.enet_coordinate_descent(\n",
      "C:\\ProgramData\\anaconda3\\lib\\site-packages\\sklearn\\linear_model\\_coordinate_descent.py:631: ConvergenceWarning: Objective did not converge. You might want to increase the number of iterations, check the scale of the features or consider increasing regularisation. Duality gap: 1.239e+03, tolerance: 5.656e+02\n",
      "  model = cd_fast.enet_coordinate_descent(\n",
      "C:\\ProgramData\\anaconda3\\lib\\site-packages\\sklearn\\linear_model\\_coordinate_descent.py:631: ConvergenceWarning: Objective did not converge. You might want to increase the number of iterations, check the scale of the features or consider increasing regularisation. Duality gap: 9.240e+02, tolerance: 5.656e+02\n",
      "  model = cd_fast.enet_coordinate_descent(\n"
     ]
    }
   ],
   "source": [
    "train_hist = []\n",
    "test_hist = []\n",
    "\n",
    "alpha_li = [0.001, 0.01, 0.1, 1, 10, 100]\n",
    "\n",
    "for alpha in alpha_li:\n",
    "    # 모델 생성\n",
    "    las = Lasso(alpha = alpha)\n",
    "    \n",
    "    # 훈련\n",
    "    las.fit(scaled_train, y_train)\n",
    "    \n",
    "    # 모델 성능을 저장\n",
    "    train_hist.append(las.score(scaled_train, y_train))\n",
    "    test_hist.append(las.score(scaled_test, y_test))"
   ]
  },
  {
   "cell_type": "code",
   "execution_count": 33,
   "id": "112a0c1e",
   "metadata": {},
   "outputs": [
    {
     "data": {
      "image/png": "[encoded data removed]",
      "text/plain": [
       "<Figure size 640x480 with 1 Axes>"
      ]
     },
     "metadata": {},
     "output_type": "display_data"
    }
   ],
   "source": [
    "plt.figure()\n",
    "# alpha 값을 그대로 x에 적용하면 간격이 서로 다르기 때문에 로그 함수로 바꾸어서 시각화\n",
    "plt.plot(np.log10(alpha_li), train_hist)\n",
    "plt.plot(np.log10(alpha_li), test_hist)\n",
    "\n",
    "plt.xlabel(\"alpha\")\n",
    "plt.ylabel(\"R2\")\n",
    "plt.legend(labels = [\"train\", \"test\"])\n",
    "\n",
    "plt.show()"
   ]
  },
  {
   "cell_type": "code",
   "execution_count": 34,
   "id": "82c9bdb3",
   "metadata": {},
   "outputs": [
    {
     "name": "stdout",
     "output_type": "stream",
     "text": [
      "0.9906449440672553\n",
      "0.9645314806948945\n"
     ]
    },
    {
     "name": "stderr",
     "output_type": "stream",
     "text": [
      "C:\\ProgramData\\anaconda3\\lib\\site-packages\\sklearn\\linear_model\\_coordinate_descent.py:631: ConvergenceWarning: Objective did not converge. You might want to increase the number of iterations, check the scale of the features or consider increasing regularisation. Duality gap: 9.240e+02, tolerance: 5.656e+02\n",
      "  model = cd_fast.enet_coordinate_descent(\n"
     ]
    }
   ],
   "source": [
    "# 모델 성능이 가장 높은 지점 확인\n",
    "las = Lasso(alpha = 10)\n",
    "las.fit(scaled_train, y_train)\n",
    "print(las.score(scaled_train, y_train))\n",
    "print(las.score(scaled_test, y_test))"
   ]
  },
  {
   "cell_type": "code",
   "execution_count": 35,
   "id": "077fafa3",
   "metadata": {},
   "outputs": [
    {
     "data": {
      "text/plain": [
       "array([  0.        ,   0.        ,   0.        ,   1.88806669,\n",
       "         0.        ,  27.93007594,  15.11040027,  47.71904836,\n",
       "        13.85424444,   0.        ,  46.87357257,   0.        ,\n",
       "        98.59029201,   0.        ,   0.        , 104.79324414,\n",
       "         0.        ,   0.        ,   0.        ,   0.        ,\n",
       "         0.        ,   0.        ,   0.        ,   0.        ,\n",
       "         0.        ,   0.        ,   0.        ,   0.        ,\n",
       "         0.        ,   0.        ,   0.        ,   0.        ,\n",
       "         0.        ,   0.        ,   0.        ,   0.        ,\n",
       "         0.        ,   0.        ,   0.        ,   0.        ,\n",
       "         0.        ,   0.        ,   0.        ,   0.        ,\n",
       "         0.        ,   0.        ,   0.        ,   0.        ,\n",
       "         0.        ,   0.        ,   0.        ,   0.        ,\n",
       "         0.        ,   0.        ,   0.        ])"
      ]
     },
     "execution_count": 35,
     "metadata": {},
     "output_type": "execute_result"
    }
   ],
   "source": [
    "las.coef_"
   ]
  },
  {
   "cell_type": "code",
   "execution_count": 37,
   "id": "fa5baec8",
   "metadata": {},
   "outputs": [
    {
     "name": "stdout",
     "output_type": "stream",
     "text": [
      "47\n"
     ]
    }
   ],
   "source": [
    "print(np.sum(las.coef_ == 0))"
   ]
  },
  {
   "cell_type": "markdown",
   "id": "bf47bd09",
   "metadata": {},
   "source": [
    "- 라쏘 모델은 기울기를 아예 0으로 만드는 경우가 있음\n",
    "- 현재는 47개의 독립변수의 기울기를 0으로 만들어 사용하지 않음\n",
    "    - 이런 특징을 이용해 유용한 특성을 선택하는 용도로 사용할 수도 있음"
   ]
  },
  {
   "cell_type": "code",
   "execution_count": null,
   "id": "eccb0ae6",
   "metadata": {},
   "outputs": [],
   "source": []
  }
 ],
 "metadata": {
  "kernelspec": {
   "display_name": "Python 3 (ipykernel)",
   "language": "python",
   "name": "python3"
  },
  "language_info": {
   "codemirror_mode": {
    "name": "ipython",
    "version": 3
   },
   "file_extension": ".py",
   "mimetype": "text/x-python",
   "name": "python",
   "nbconvert_exporter": "python",
   "pygments_lexer": "ipython3",
   "version": "3.11.5"
  }
 },
 "nbformat": 4,
 "nbformat_minor": 5
}
