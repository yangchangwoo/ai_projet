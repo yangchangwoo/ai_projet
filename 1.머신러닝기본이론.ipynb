{
 "cells": [
  {
   "cell_type": "markdown",
   "id": "908eea7f",
   "metadata": {},
   "source": [
    "# 통계 기본 이론\n",
    "\n",
    "- 예측분석학\n",
    "- 대전제는 역사는 반복적이다\n",
    "- 과거 데이터에 대한 적합화를 수행하여 이를 테스트\n",
    "    - 결과 성능에 대한 척도가 검증되면\n",
    "    - 동일 모델에 대해서 미래예측에 활용\n",
    "    \n",
    "- 독립 변수\n",
    "    - 관측치, 입력 변수, 특징, feature, 설명변수 등\n",
    "    \n",
    "- 종속 변수\n",
    "    - 결과변수, 반응변수, 응답변수, 설명된변수, 측정된변수, 레이블, 실험변수 등\n",
    "    \n",
    "- 변수들로 이루어진 수학식\n",
    "    - 이를 이용하여 계산 후 실제에 적용\n",
    "    - 이를 통해서 추정을 한다 -> 통계 학문\n",
    "    \n",
    "- 가정\n",
    "    - 항상 모든 변수들이 만족해야하는 기본 가정으로부터 시작한다"
   ]
  },
  {
   "cell_type": "markdown",
   "id": "e0708bc1",
   "metadata": {},
   "source": [
    "# 머신러닝\n",
    "\n",
    "- 의의\n",
    "    - 머신러닝은 과거 경험에서 학습을 통해 얻은 지식을 미래의 결정에 이용하는 전산학의 한 분야\n",
    "    - 전산학과 공학, 통계학의 교집합으로 볼 수 있음\n",
    "    \n",
    "- 목표\n",
    "    - 관측된 패턴을 일반화하거나 주어진 예제를 통해 새로운 규칙을 생성하는 것\n",
    "    \n",
    "- 종류\n",
    "    - 지도 학습(Supervised learning)\n",
    "        - 목표 변수와 다른 변수 간의 관계를 기계가 학습하도록 가르치는 것\n",
    "            - 분류(Classification)\n",
    "            - 회귀(Regression)\n",
    "        \n",
    "    - 비지도 학습(Unsupervised learning)\n",
    "        - 지도나 목표 변수를 설정하는 과정 없이 알고리즘이 스스로 학습\n",
    "        - 주어진 데이터 사이의 숨은 패턴이나 관계를 찾는 것\n",
    "            - 차원 축소(Dimensionality reduction)\n",
    "            - 군집화(Clustering)\n",
    "    \n",
    "    - 강화 학습(reinforcement learning)\n",
    "        - 기계나 에이전트가 주변 환경의 피드백으로부터 행동을 학습하는 것\n",
    "        - 에이전트는 지도를 받지 않고 스스로 결정을 내린 후 마지막에 그 결과에 따라 보상을 받게됨\n",
    "        - 보상값에 따라 에이전트는 실행했던 이력을 재평가"
   ]
  },
  {
   "cell_type": "markdown",
   "id": "cb48372f",
   "metadata": {},
   "source": [
    "# 머신러닝과 딥러닝의 차이점\n",
    "\n",
    "<img src = \"./image/mlvsdl.png\">"
   ]
  },
  {
   "cell_type": "markdown",
   "id": "5aa80daa",
   "metadata": {},
   "source": [
    "# 머신 러닝 모델 개발과 배치를 위한 단계\n",
    "\n",
    "1. 데이터 수집\n",
    "    - 구조화된 소스, 웹크롤링, API 등을 통해 직접 수집\n",
    "    - 정형 데이터와 비정형 데이터를 모두 처리할 수 있음\n",
    "\n",
    "2. 데이터 준비, 결측치/이상치 처리\n",
    "    - 선택한 머신러닝 알고리즘에 맞도록 데이터를 가공\n",
    "    - 결측치나 이상치는 평균값이나 중간값 등으로 대체\n",
    "\n",
    "3. 데이터 분석과 변수 선택\n",
    "    - 변수들 사이의 숨겨진 패턴 및 관계를 찾아내기 위한 과정\n",
    "    - 올바른 변수 선택과 사업 분야에 대한 충분한 배경 지식을 동원한다면 목표의 70% 정도를 달성할 수 있음\n",
    "\n",
    "4. 훈련 알고리즘\n",
    "    - 데이터를 훈련, 검증, 테스트로 분리\n",
    "    - 훈련 데이터에 머신러닝을 적용하고 과대적합(Overfitting)을 피하기 위해 검증 데이터를 대상으로 모델의 초매개변수를 튜닝\n",
    "\n",
    "5. 테스트 데이터를 사용한 알고리즘 테스트\n",
    "    - 훈련에 사용하지 않은 낯선 테스트 데이터를 대상으로 성능 점검을 수행\n",
    "    - 이 단계에서 충분히 성능이 인정되면 마지막 단계로 넘어감\n",
    "\n",
    "6. 알고리즘 배치\n",
    "    - 비즈니스에 적용"
   ]
  },
  {
   "cell_type": "markdown",
   "id": "08bdfa78",
   "metadata": {},
   "source": [
    "# 머신러닝 모델 튜닝을 멈추는 시점\n",
    "\n",
    "<img src = \"./image/fitting_examples.jpg\">\n",
    "<hr>\n",
    "<img src = \"./image/test_accuracy.png\">"
   ]
  },
  {
   "cell_type": "markdown",
   "id": "381387bc",
   "metadata": {},
   "source": [
    "- 과소 적합 단계(Underfitting)\n",
    "    - 높은 훈련 오류 및 테스트 오류\n",
    "    - 낮은 훈련 정확도 및 테스트 정확도\n",
    "\n",
    "- 적합 단계(Good fit)\n",
    "    - 이상적인 시나리오\n",
    "    - 낮은 훈련 오류 및 테스트 오류\n",
    "    - 높은 훈련 정확도 및 테스트 정확도\n",
    "\n",
    "- 과대 적합 단계(Overfitting)\n",
    "    - 낮은 훈련 오류와 높은 테스트 오류\n",
    "    - 높은 훈련 정확도와 낮은 테스트 정확도"
   ]
  },
  {
   "cell_type": "code",
   "execution_count": null,
   "id": "e30c7b57",
   "metadata": {},
   "outputs": [],
   "source": []
  }
 ],
 "metadata": {
  "kernelspec": {
   "display_name": "Python 3 (ipykernel)",
   "language": "python",
   "name": "python3"
  },
  "language_info": {
   "codemirror_mode": {
    "name": "ipython",
    "version": 3
   },
   "file_extension": ".py",
   "mimetype": "text/x-python",
   "name": "python",
   "nbconvert_exporter": "python",
   "pygments_lexer": "ipython3",
   "version": "3.11.5"
  }
 },
 "nbformat": 4,
 "nbformat_minor": 5
}
