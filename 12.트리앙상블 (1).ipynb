{
 "cells": [
  {
   "cell_type": "markdown",
   "id": "33ef2ac2",
   "metadata": {},
   "source": [
    "# 앙상블\n",
    "\n",
    "- 여러 머신러닝 모델을 결합하여 더 좋은 모델을 얻는 방법\n",
    "- 앙상블의 종류\n",
    "    - 보팅(Voting)\n",
    "        - 여러 개의 분류기가 투표를 통해 최종 예측 결과를 결정\n",
    "        - 종류\n",
    "            - 하드 보팅(Hard Voting)\n",
    "                - 다수의 분류기가 예측한 결과값을 최종 결과로 선정\n",
    "            - 소프트 보팅(Soft Voting)\n",
    "                - 모든 분류기가 예측한 결정 확률의 평균이 가장 높은 결과값을 최종 결과로 선정\n",
    "        <img src = \"./image/voting.png\">"
   ]
  },
  {
   "cell_type": "markdown",
   "id": "a1c3de0b",
   "metadata": {},
   "source": [
    "- 배깅(Bagging)\n",
    "    <img src = \"./image/bagging.png\">"
   ]
  },
  {
   "cell_type": "markdown",
   "id": "a6f16128",
   "metadata": {},
   "source": [
    " - 데이터 샘플링(Bootstrap)을 통해 모델을 학습시키고 결과를 집계하는 방법\n",
    "    - Bootstrap\n",
    "        - 데이터가 조금씩은 편향되도록 샘플링하는 기법\n",
    "        - 분산이 높은 모델의 과대적합 위험을 줄이는 효과가 있음\n",
    "- 모두 같은 유형의 알고리즘 기반의 분류기를 사용\n",
    "- 데이터 분할 시 중복을 허용\n",
    "- 예시 : 랜덤포레스트(RandomForest)\n",
    "    - 과대적합되기 쉬운 의사결정나무의 과대적합을 줄여 성능을 높일 수 있음"
   ]
  },
  {
   "cell_type": "markdown",
   "id": "efc3527e",
   "metadata": {},
   "source": [
    "- 부스팅(Boosting)\n",
    "<img src = \"./image/boosting.png\">"
   ]
  },
  {
   "cell_type": "markdown",
   "id": "08348ea4",
   "metadata": {},
   "source": [
    "- 여러 개의 분류기가 순차적으로 학습을 수행\n",
    "- 이전 분류기의 예측이 틀린 데이터에 대해서 올바르게 예측할 수 있도록 다음 분류기에게 가중치(weight)를 부여하면서 예측과 학습을 진행\n",
    "- 계속하여 분류기에게 가중치를 부스팅하며 학습을 진행하기 때문에 부스팅 방식이라고 불림\n",
    "- 일반적으로 부스팅 방식이 배깅에 비해 성능이 더 좋지만 속도가 느리고 과대적합이 발생할 가능성이 더 높음\n",
    "- 예시 : XGBoost, LightGBM"
   ]
  },
  {
   "cell_type": "code",
   "execution_count": 1,
   "id": "0cf660c7",
   "metadata": {},
   "outputs": [],
   "source": [
    "import numpy as np\n",
    "import pandas as pd\n",
    "from sklearn.model_selection import train_test_split, cross_validate\n",
    "from sklearn.ensemble import RandomForestClassifier, ExtraTreesClassifier, GradientBoostingClassifier"
   ]
  },
  {
   "cell_type": "markdown",
   "id": "1f33d3da",
   "metadata": {},
   "source": [
    "## 랜덤포레스트"
   ]
  },
  {
   "cell_type": "code",
   "execution_count": 2,
   "id": "8c1bd9ce",
   "metadata": {},
   "outputs": [],
   "source": [
    "df = pd.read_csv(\"./data/wine.csv\")"
   ]
  },
  {
   "cell_type": "code",
   "execution_count": 3,
   "id": "491ebaaa",
   "metadata": {},
   "outputs": [
    {
     "data": {
      "text/html": [
       "<div>\n",
       "<style scoped>\n",
       "    .dataframe tbody tr th:only-of-type {\n",
       "        vertical-align: middle;\n",
       "    }\n",
       "\n",
       "    .dataframe tbody tr th {\n",
       "        vertical-align: top;\n",
       "    }\n",
       "\n",
       "    .dataframe thead th {\n",
       "        text-align: right;\n",
       "    }\n",
       "</style>\n",
       "<table border=\"1\" class=\"dataframe\">\n",
       "  <thead>\n",
       "    <tr style=\"text-align: right;\">\n",
       "      <th></th>\n",
       "      <th>alcohol</th>\n",
       "      <th>sugar</th>\n",
       "      <th>pH</th>\n",
       "      <th>class</th>\n",
       "    </tr>\n",
       "  </thead>\n",
       "  <tbody>\n",
       "    <tr>\n",
       "      <th>0</th>\n",
       "      <td>9.4</td>\n",
       "      <td>1.9</td>\n",
       "      <td>3.51</td>\n",
       "      <td>0.0</td>\n",
       "    </tr>\n",
       "    <tr>\n",
       "      <th>1</th>\n",
       "      <td>9.8</td>\n",
       "      <td>2.6</td>\n",
       "      <td>3.20</td>\n",
       "      <td>0.0</td>\n",
       "    </tr>\n",
       "    <tr>\n",
       "      <th>2</th>\n",
       "      <td>9.8</td>\n",
       "      <td>2.3</td>\n",
       "      <td>3.26</td>\n",
       "      <td>0.0</td>\n",
       "    </tr>\n",
       "    <tr>\n",
       "      <th>3</th>\n",
       "      <td>9.8</td>\n",
       "      <td>1.9</td>\n",
       "      <td>3.16</td>\n",
       "      <td>0.0</td>\n",
       "    </tr>\n",
       "    <tr>\n",
       "      <th>4</th>\n",
       "      <td>9.4</td>\n",
       "      <td>1.9</td>\n",
       "      <td>3.51</td>\n",
       "      <td>0.0</td>\n",
       "    </tr>\n",
       "  </tbody>\n",
       "</table>\n",
       "</div>"
      ],
      "text/plain": [
       "   alcohol  sugar    pH  class\n",
       "0      9.4    1.9  3.51    0.0\n",
       "1      9.8    2.6  3.20    0.0\n",
       "2      9.8    2.3  3.26    0.0\n",
       "3      9.8    1.9  3.16    0.0\n",
       "4      9.4    1.9  3.51    0.0"
      ]
     },
     "execution_count": 3,
     "metadata": {},
     "output_type": "execute_result"
    }
   ],
   "source": [
    "df.head()"
   ]
  },
  {
   "cell_type": "code",
   "execution_count": 4,
   "id": "835600d2",
   "metadata": {},
   "outputs": [],
   "source": [
    "x = df[[\"alcohol\", \"sugar\", \"pH\"]]\n",
    "y = df[\"class\"]"
   ]
  },
  {
   "cell_type": "code",
   "execution_count": 6,
   "id": "30a4f390",
   "metadata": {},
   "outputs": [],
   "source": [
    "x_train, x_test, y_train, y_test = train_test_split(x, y, test_size = 0.2, stratify = y,\n",
    "                                                    random_state = 5)"
   ]
  },
  {
   "cell_type": "code",
   "execution_count": 7,
   "id": "609fd804",
   "metadata": {},
   "outputs": [],
   "source": [
    "# 사이킷런의 랜덤포레스트는 기본적으로 100개의 결정 트리를 사용함\n",
    "rf = RandomForestClassifier(n_jobs = -1, random_state = 5)"
   ]
  },
  {
   "cell_type": "code",
   "execution_count": 8,
   "id": "57a6f264",
   "metadata": {},
   "outputs": [],
   "source": [
    "# return_train_score : 교차 검증 시 훈련 세트에 대한 점수도 함께 반환\n",
    "scores = cross_validate(rf, x_train, y_train, return_train_score = True, n_jobs = -1)"
   ]
  },
  {
   "cell_type": "code",
   "execution_count": 9,
   "id": "cb524983",
   "metadata": {},
   "outputs": [
    {
     "name": "stdout",
     "output_type": "stream",
     "text": [
      "0.997739101034747 0.8901282668246095\n"
     ]
    }
   ],
   "source": [
    "print(np.mean(scores[\"train_score\"]), np.mean(scores[\"test_score\"]))"
   ]
  },
  {
   "cell_type": "markdown",
   "id": "f3a9bde3",
   "metadata": {},
   "source": [
    "- 랜덤포레스트는 의사결정나무의 앙상블이기 때문에 의사결정나무에서 제공하는 주요 매개변수는 모두 제공함\n",
    "    - criterion, max_depth, max_features, min_samples_split, min_impurity_decrease, min_samples_leaf 등\n",
    "    - 특성 중요도 계산도 가능\n",
    "        - 랜덤포레스트의 특성 중요도는 각 의사결정나무의 특성 중요도를 취합"
   ]
  },
  {
   "cell_type": "code",
   "execution_count": 10,
   "id": "1ed5b9cf",
   "metadata": {},
   "outputs": [
    {
     "data": {
      "text/html": [
       "<style>#sk-container-id-1 {color: black;background-color: white;}#sk-container-id-1 pre{padding: 0;}#sk-container-id-1 div.sk-toggleable {background-color: white;}#sk-container-id-1 label.sk-toggleable__label {cursor: pointer;display: block;width: 100%;margin-bottom: 0;padding: 0.3em;box-sizing: border-box;text-align: center;}#sk-container-id-1 label.sk-toggleable__label-arrow:before {content: \"▸\";float: left;margin-right: 0.25em;color: #696969;}#sk-container-id-1 label.sk-toggleable__label-arrow:hover:before {color: black;}#sk-container-id-1 div.sk-estimator:hover label.sk-toggleable__label-arrow:before {color: black;}#sk-container-id-1 div.sk-toggleable__content {max-height: 0;max-width: 0;overflow: hidden;text-align: left;background-color: #f0f8ff;}#sk-container-id-1 div.sk-toggleable__content pre {margin: 0.2em;color: black;border-radius: 0.25em;background-color: #f0f8ff;}#sk-container-id-1 input.sk-toggleable__control:checked~div.sk-toggleable__content {max-height: 200px;max-width: 100%;overflow: auto;}#sk-container-id-1 input.sk-toggleable__control:checked~label.sk-toggleable__label-arrow:before {content: \"▾\";}#sk-container-id-1 div.sk-estimator input.sk-toggleable__control:checked~label.sk-toggleable__label {background-color: #d4ebff;}#sk-container-id-1 div.sk-label input.sk-toggleable__control:checked~label.sk-toggleable__label {background-color: #d4ebff;}#sk-container-id-1 input.sk-hidden--visually {border: 0;clip: rect(1px 1px 1px 1px);clip: rect(1px, 1px, 1px, 1px);height: 1px;margin: -1px;overflow: hidden;padding: 0;position: absolute;width: 1px;}#sk-container-id-1 div.sk-estimator {font-family: monospace;background-color: #f0f8ff;border: 1px dotted black;border-radius: 0.25em;box-sizing: border-box;margin-bottom: 0.5em;}#sk-container-id-1 div.sk-estimator:hover {background-color: #d4ebff;}#sk-container-id-1 div.sk-parallel-item::after {content: \"\";width: 100%;border-bottom: 1px solid gray;flex-grow: 1;}#sk-container-id-1 div.sk-label:hover label.sk-toggleable__label {background-color: #d4ebff;}#sk-container-id-1 div.sk-serial::before {content: \"\";position: absolute;border-left: 1px solid gray;box-sizing: border-box;top: 0;bottom: 0;left: 50%;z-index: 0;}#sk-container-id-1 div.sk-serial {display: flex;flex-direction: column;align-items: center;background-color: white;padding-right: 0.2em;padding-left: 0.2em;position: relative;}#sk-container-id-1 div.sk-item {position: relative;z-index: 1;}#sk-container-id-1 div.sk-parallel {display: flex;align-items: stretch;justify-content: center;background-color: white;position: relative;}#sk-container-id-1 div.sk-item::before, #sk-container-id-1 div.sk-parallel-item::before {content: \"\";position: absolute;border-left: 1px solid gray;box-sizing: border-box;top: 0;bottom: 0;left: 50%;z-index: -1;}#sk-container-id-1 div.sk-parallel-item {display: flex;flex-direction: column;z-index: 1;position: relative;background-color: white;}#sk-container-id-1 div.sk-parallel-item:first-child::after {align-self: flex-end;width: 50%;}#sk-container-id-1 div.sk-parallel-item:last-child::after {align-self: flex-start;width: 50%;}#sk-container-id-1 div.sk-parallel-item:only-child::after {width: 0;}#sk-container-id-1 div.sk-dashed-wrapped {border: 1px dashed gray;margin: 0 0.4em 0.5em 0.4em;box-sizing: border-box;padding-bottom: 0.4em;background-color: white;}#sk-container-id-1 div.sk-label label {font-family: monospace;font-weight: bold;display: inline-block;line-height: 1.2em;}#sk-container-id-1 div.sk-label-container {text-align: center;}#sk-container-id-1 div.sk-container {/* jupyter's `normalize.less` sets `[hidden] { display: none; }` but bootstrap.min.css set `[hidden] { display: none !important; }` so we also need the `!important` here to be able to override the default hidden behavior on the sphinx rendered scikit-learn.org. See: https://github.com/scikit-learn/scikit-learn/issues/21755 */display: inline-block !important;position: relative;}#sk-container-id-1 div.sk-text-repr-fallback {display: none;}</style><div id=\"sk-container-id-1\" class=\"sk-top-container\"><div class=\"sk-text-repr-fallback\"><pre>RandomForestClassifier(n_jobs=-1, random_state=5)</pre><b>In a Jupyter environment, please rerun this cell to show the HTML representation or trust the notebook. <br />On GitHub, the HTML representation is unable to render, please try loading this page with nbviewer.org.</b></div><div class=\"sk-container\" hidden><div class=\"sk-item\"><div class=\"sk-estimator sk-toggleable\"><input class=\"sk-toggleable__control sk-hidden--visually\" id=\"sk-estimator-id-1\" type=\"checkbox\" checked><label for=\"sk-estimator-id-1\" class=\"sk-toggleable__label sk-toggleable__label-arrow\">RandomForestClassifier</label><div class=\"sk-toggleable__content\"><pre>RandomForestClassifier(n_jobs=-1, random_state=5)</pre></div></div></div></div></div>"
      ],
      "text/plain": [
       "RandomForestClassifier(n_jobs=-1, random_state=5)"
      ]
     },
     "execution_count": 10,
     "metadata": {},
     "output_type": "execute_result"
    }
   ],
   "source": [
    "rf.fit(x_train, y_train)"
   ]
  },
  {
   "cell_type": "code",
   "execution_count": 11,
   "id": "9be0028d",
   "metadata": {},
   "outputs": [
    {
     "name": "stdout",
     "output_type": "stream",
     "text": [
      "[0.23172077 0.50587762 0.2624016 ]\n"
     ]
    }
   ],
   "source": [
    "print(rf.feature_importances_)"
   ]
  },
  {
   "cell_type": "markdown",
   "id": "060576a1",
   "metadata": {},
   "source": [
    "- 의사결정나무에 비해 두 번째 특성인 sugar의 중요도가 감소하고 alcohol과 pH의 중요도가 상승함\n",
    "    - 랜덤포레스트는 하나의 특성에 과도하게 집중하지 않고 더 많은 특성이 훈련에 기여할 기회를 얻음\n",
    "    - 과대적합이 줄어들고 일반화 성능을 높일 수 있음"
   ]
  },
  {
   "cell_type": "code",
   "execution_count": 12,
   "id": "0ffbe418",
   "metadata": {},
   "outputs": [
    {
     "name": "stdout",
     "output_type": "stream",
     "text": [
      "0.8959014816240138\n"
     ]
    }
   ],
   "source": [
    "rf = RandomForestClassifier(oob_score = True, n_jobs = -1, random_state = 5)\n",
    "rf.fit(x_train, y_train)\n",
    "print(rf.oob_score_)"
   ]
  },
  {
   "cell_type": "markdown",
   "id": "8a3de424",
   "metadata": {},
   "source": [
    "- OOB(out of bag)샘플\n",
    "    - 부트스트랩 샘플에 포함되지 않아 훈련에 사용되지 않은 샘플\n",
    "    - oob샘플을 검증 세트처럼 이용하여 훈련한 결정 트리를 평가할 수 있음"
   ]
  },
  {
   "cell_type": "markdown",
   "id": "78c2c54e",
   "metadata": {},
   "source": [
    "## 엑스트라 트리\n",
    "\n",
    "- 랜덤포레스트와 매우 유사함\n",
    "    - 기본적으로 100개의 의사결정나무를 훈련\n",
    "    - 의사결정나무가 제공하는 대부분의 매개변수를 지원\n",
    "    \n",
    "- 랜덤포레스트와의 차이점\n",
    "    - 부트스트랩 샘플을 사용하지 않음\n",
    "        - 전체 훈련 세트를 사용함\n",
    "    - 노드를 분할할 때 가장 좋은 분할을 찾는 것이 아니라 무작위로 분할\n",
    "        - 하나의 의사결정나무에서 특성을 무작위로 분할한다면 성능이 낮아짐\n",
    "        - 하지만 많은 트리를 앙상블하기 때문에 과대적합을 방지하고 검증세트 점수를 높이는 효과가 나타남"
   ]
  },
  {
   "cell_type": "code",
   "execution_count": 14,
   "id": "d95a6a9b",
   "metadata": {},
   "outputs": [
    {
     "name": "stdout",
     "output_type": "stream",
     "text": [
      "0.997739101034747 0.8893566298956097\n"
     ]
    }
   ],
   "source": [
    "et = ExtraTreesClassifier(n_jobs = -1, random_state = 5)\n",
    "scores = cross_validate(et, x_train, y_train, return_train_score = True, n_jobs = -1)\n",
    "print(np.mean(scores[\"train_score\"]), np.mean(scores[\"test_score\"]))"
   ]
  },
  {
   "cell_type": "markdown",
   "id": "130be611",
   "metadata": {},
   "source": [
    "- 예제에서는 독립변수가 많지 않아서 랜덤포레스트와 차이가 크지 않음\n",
    "- 일반적으로 엑스트라 트리가 무작위성이 더 크기 때문에 랜덤포레스트보다 더 많은 트리를 훈련해야함\n",
    "- 하지만 랜덤하게 노드를 분할하기 때문에 계산속도가 빠름"
   ]
  },
  {
   "cell_type": "code",
   "execution_count": 15,
   "id": "4d43a95f",
   "metadata": {},
   "outputs": [
    {
     "name": "stdout",
     "output_type": "stream",
     "text": [
      "[0.19381856 0.5241444  0.28203704]\n"
     ]
    }
   ],
   "source": [
    "# 엑스트라 트리도 특성 중요도를 제공함\n",
    "et.fit(x_train, y_train)\n",
    "print(et.feature_importances_)"
   ]
  },
  {
   "cell_type": "markdown",
   "id": "8e806806",
   "metadata": {},
   "source": [
    "## 그레디언트 부스팅(gradient boosting)\n",
    "\n",
    "- 깊이가 얕은 결정 트리를 사용하여 이전 트리의 오차를 보완하는 방식으로 앙상블 하는 기법\n",
    "- 사이킷런의 GradientBoostingClassifier 는 기본적으로 깊이가 3인 결정 트리를 100개 사용함\n",
    "    - 깊이가 얕은 결정 트리를 사용하여 과대적합을 방지할 수 있고 높은 일반화 성능을 기대할 수 있음"
   ]
  },
  {
   "cell_type": "code",
   "execution_count": 17,
   "id": "e52487c3",
   "metadata": {},
   "outputs": [
    {
     "name": "stdout",
     "output_type": "stream",
     "text": [
      "0.8881086082192649 0.8737756348560006\n"
     ]
    }
   ],
   "source": [
    "gb = GradientBoostingClassifier(random_state = 5)\n",
    "scores = cross_validate(gb, x_train, y_train, return_train_score = True, n_jobs = -1)\n",
    "print(np.mean(scores[\"train_score\"]), np.mean(scores[\"test_score\"]))"
   ]
  },
  {
   "cell_type": "markdown",
   "id": "6b6f3f51",
   "metadata": {},
   "source": [
    "- 그레디언트 부스팅은 결정 트리의 개수를 늘려도 과대적합에 강함"
   ]
  },
  {
   "cell_type": "code",
   "execution_count": 18,
   "id": "99affe81",
   "metadata": {},
   "outputs": [
    {
     "name": "stdout",
     "output_type": "stream",
     "text": [
      "0.9436213631787365 0.8770472717850005\n"
     ]
    }
   ],
   "source": [
    "gb = GradientBoostingClassifier(n_estimators = 500, learning_rate = 0.2, random_state = 5)\n",
    "scores = cross_validate(gb, x_train, y_train, return_train_score = True, n_jobs = -1)\n",
    "print(np.mean(scores[\"train_score\"]), np.mean(scores[\"test_score\"]))"
   ]
  },
  {
   "cell_type": "code",
   "execution_count": 19,
   "id": "526703d9",
   "metadata": {},
   "outputs": [
    {
     "name": "stdout",
     "output_type": "stream",
     "text": [
      "[0.16265963 0.68566291 0.15167746]\n"
     ]
    }
   ],
   "source": [
    "gb.fit(x_train, y_train)\n",
    "print(gb.feature_importances_)"
   ]
  },
  {
   "cell_type": "code",
   "execution_count": null,
   "id": "39dfab96",
   "metadata": {},
   "outputs": [],
   "source": []
  }
 ],
 "metadata": {
  "kernelspec": {
   "display_name": "Python 3 (ipykernel)",
   "language": "python",
   "name": "python3"
  },
  "language_info": {
   "codemirror_mode": {
    "name": "ipython",
    "version": 3
   },
   "file_extension": ".py",
   "mimetype": "text/x-python",
   "name": "python",
   "nbconvert_exporter": "python",
   "pygments_lexer": "ipython3",
   "version": "3.10.9"
  }
 },
 "nbformat": 4,
 "nbformat_minor": 5
}
